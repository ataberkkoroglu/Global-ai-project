{
  "cells": [
    {
      "cell_type": "markdown",
      "metadata": {
        "id": "view-in-github",
        "colab_type": "text"
      },
      "source": [
        "<a href=\"https://colab.research.google.com/github/ataberkkoroglu/Global-ai-project/blob/master/Melbourne.ipynb\" target=\"_parent\"><img src=\"https://colab.research.google.com/assets/colab-badge.svg\" alt=\"Open In Colab\"/></a>"
      ]
    },
    {
      "cell_type": "code",
      "execution_count": 1,
      "metadata": {
        "id": "vxpRmPTaXFge"
      },
      "outputs": [],
      "source": [
        "import pandas as pd\n",
        "import numpy as np\n",
        "import seaborn as sns\n",
        "import matplotlib.pyplot as plt"
      ]
    },
    {
      "cell_type": "code",
      "source": [
        "from google.colab import drive\n",
        "drive.mount('/content/drive')"
      ],
      "metadata": {
        "colab": {
          "base_uri": "https://localhost:8080/"
        },
        "id": "Ewi63u_E0AZ8",
        "outputId": "324f0e95-d99a-44ab-bc8a-b16ec61f0723"
      },
      "execution_count": 2,
      "outputs": [
        {
          "output_type": "stream",
          "name": "stdout",
          "text": [
            "Drive already mounted at /content/drive; to attempt to forcibly remount, call drive.mount(\"/content/drive\", force_remount=True).\n"
          ]
        }
      ]
    },
    {
      "cell_type": "code",
      "execution_count": 3,
      "metadata": {
        "id": "16SfbjdqY-MQ"
      },
      "outputs": [],
      "source": [
        "sns.set(rc={'figure.figsize':(10,10)})\n",
        "pd.set_option('display.max_columns',500)\n",
        "pd.set_option('display.max_row',500)\n",
        "pd.set_option('display.width', 1000)"
      ]
    },
    {
      "cell_type": "code",
      "execution_count": 4,
      "metadata": {
        "colab": {
          "base_uri": "https://localhost:8080/",
          "height": 330
        },
        "id": "2s1WmVasXTDI",
        "outputId": "76a89c14-f927-462e-e460-2f0d681149f9"
      },
      "outputs": [
        {
          "output_type": "execute_result",
          "data": {
            "text/plain": [
              "       Suburb             Address  Rooms Type      Price Method SellerG       Date  Distance  Postcode  Bedroom2  Bathroom  Car  Landsize  BuildingArea  YearBuilt         CouncilArea  Lattitude  Longtitude             Regionname  Propertycount\n",
              "0  Abbotsford       68 Studley St      2    h        NaN     SS  Jellis  3/09/2016       2.5    3067.0       2.0       1.0  1.0     126.0           NaN        NaN  Yarra City Council   -37.8014    144.9958  Northern Metropolitan         4019.0\n",
              "1  Abbotsford        85 Turner St      2    h  1480000.0      S  Biggin  3/12/2016       2.5    3067.0       2.0       1.0  1.0     202.0           NaN        NaN  Yarra City Council   -37.7996    144.9984  Northern Metropolitan         4019.0\n",
              "2  Abbotsford     25 Bloomburg St      2    h  1035000.0      S  Biggin  4/02/2016       2.5    3067.0       2.0       1.0  0.0     156.0          79.0     1900.0  Yarra City Council   -37.8079    144.9934  Northern Metropolitan         4019.0\n",
              "3  Abbotsford  18/659 Victoria St      3    u        NaN     VB  Rounds  4/02/2016       2.5    3067.0       3.0       2.0  1.0       0.0           NaN        NaN  Yarra City Council   -37.8114    145.0116  Northern Metropolitan         4019.0\n",
              "4  Abbotsford        5 Charles St      3    h  1465000.0     SP  Biggin  4/03/2017       2.5    3067.0       3.0       2.0  0.0     134.0         150.0     1900.0  Yarra City Council   -37.8093    144.9944  Northern Metropolitan         4019.0"
            ],
            "text/html": [
              "\n",
              "  <div id=\"df-7b28a295-d856-43c1-b087-365db929c53c\" class=\"colab-df-container\">\n",
              "    <div>\n",
              "<style scoped>\n",
              "    .dataframe tbody tr th:only-of-type {\n",
              "        vertical-align: middle;\n",
              "    }\n",
              "\n",
              "    .dataframe tbody tr th {\n",
              "        vertical-align: top;\n",
              "    }\n",
              "\n",
              "    .dataframe thead th {\n",
              "        text-align: right;\n",
              "    }\n",
              "</style>\n",
              "<table border=\"1\" class=\"dataframe\">\n",
              "  <thead>\n",
              "    <tr style=\"text-align: right;\">\n",
              "      <th></th>\n",
              "      <th>Suburb</th>\n",
              "      <th>Address</th>\n",
              "      <th>Rooms</th>\n",
              "      <th>Type</th>\n",
              "      <th>Price</th>\n",
              "      <th>Method</th>\n",
              "      <th>SellerG</th>\n",
              "      <th>Date</th>\n",
              "      <th>Distance</th>\n",
              "      <th>Postcode</th>\n",
              "      <th>Bedroom2</th>\n",
              "      <th>Bathroom</th>\n",
              "      <th>Car</th>\n",
              "      <th>Landsize</th>\n",
              "      <th>BuildingArea</th>\n",
              "      <th>YearBuilt</th>\n",
              "      <th>CouncilArea</th>\n",
              "      <th>Lattitude</th>\n",
              "      <th>Longtitude</th>\n",
              "      <th>Regionname</th>\n",
              "      <th>Propertycount</th>\n",
              "    </tr>\n",
              "  </thead>\n",
              "  <tbody>\n",
              "    <tr>\n",
              "      <th>0</th>\n",
              "      <td>Abbotsford</td>\n",
              "      <td>68 Studley St</td>\n",
              "      <td>2</td>\n",
              "      <td>h</td>\n",
              "      <td>NaN</td>\n",
              "      <td>SS</td>\n",
              "      <td>Jellis</td>\n",
              "      <td>3/09/2016</td>\n",
              "      <td>2.5</td>\n",
              "      <td>3067.0</td>\n",
              "      <td>2.0</td>\n",
              "      <td>1.0</td>\n",
              "      <td>1.0</td>\n",
              "      <td>126.0</td>\n",
              "      <td>NaN</td>\n",
              "      <td>NaN</td>\n",
              "      <td>Yarra City Council</td>\n",
              "      <td>-37.8014</td>\n",
              "      <td>144.9958</td>\n",
              "      <td>Northern Metropolitan</td>\n",
              "      <td>4019.0</td>\n",
              "    </tr>\n",
              "    <tr>\n",
              "      <th>1</th>\n",
              "      <td>Abbotsford</td>\n",
              "      <td>85 Turner St</td>\n",
              "      <td>2</td>\n",
              "      <td>h</td>\n",
              "      <td>1480000.0</td>\n",
              "      <td>S</td>\n",
              "      <td>Biggin</td>\n",
              "      <td>3/12/2016</td>\n",
              "      <td>2.5</td>\n",
              "      <td>3067.0</td>\n",
              "      <td>2.0</td>\n",
              "      <td>1.0</td>\n",
              "      <td>1.0</td>\n",
              "      <td>202.0</td>\n",
              "      <td>NaN</td>\n",
              "      <td>NaN</td>\n",
              "      <td>Yarra City Council</td>\n",
              "      <td>-37.7996</td>\n",
              "      <td>144.9984</td>\n",
              "      <td>Northern Metropolitan</td>\n",
              "      <td>4019.0</td>\n",
              "    </tr>\n",
              "    <tr>\n",
              "      <th>2</th>\n",
              "      <td>Abbotsford</td>\n",
              "      <td>25 Bloomburg St</td>\n",
              "      <td>2</td>\n",
              "      <td>h</td>\n",
              "      <td>1035000.0</td>\n",
              "      <td>S</td>\n",
              "      <td>Biggin</td>\n",
              "      <td>4/02/2016</td>\n",
              "      <td>2.5</td>\n",
              "      <td>3067.0</td>\n",
              "      <td>2.0</td>\n",
              "      <td>1.0</td>\n",
              "      <td>0.0</td>\n",
              "      <td>156.0</td>\n",
              "      <td>79.0</td>\n",
              "      <td>1900.0</td>\n",
              "      <td>Yarra City Council</td>\n",
              "      <td>-37.8079</td>\n",
              "      <td>144.9934</td>\n",
              "      <td>Northern Metropolitan</td>\n",
              "      <td>4019.0</td>\n",
              "    </tr>\n",
              "    <tr>\n",
              "      <th>3</th>\n",
              "      <td>Abbotsford</td>\n",
              "      <td>18/659 Victoria St</td>\n",
              "      <td>3</td>\n",
              "      <td>u</td>\n",
              "      <td>NaN</td>\n",
              "      <td>VB</td>\n",
              "      <td>Rounds</td>\n",
              "      <td>4/02/2016</td>\n",
              "      <td>2.5</td>\n",
              "      <td>3067.0</td>\n",
              "      <td>3.0</td>\n",
              "      <td>2.0</td>\n",
              "      <td>1.0</td>\n",
              "      <td>0.0</td>\n",
              "      <td>NaN</td>\n",
              "      <td>NaN</td>\n",
              "      <td>Yarra City Council</td>\n",
              "      <td>-37.8114</td>\n",
              "      <td>145.0116</td>\n",
              "      <td>Northern Metropolitan</td>\n",
              "      <td>4019.0</td>\n",
              "    </tr>\n",
              "    <tr>\n",
              "      <th>4</th>\n",
              "      <td>Abbotsford</td>\n",
              "      <td>5 Charles St</td>\n",
              "      <td>3</td>\n",
              "      <td>h</td>\n",
              "      <td>1465000.0</td>\n",
              "      <td>SP</td>\n",
              "      <td>Biggin</td>\n",
              "      <td>4/03/2017</td>\n",
              "      <td>2.5</td>\n",
              "      <td>3067.0</td>\n",
              "      <td>3.0</td>\n",
              "      <td>2.0</td>\n",
              "      <td>0.0</td>\n",
              "      <td>134.0</td>\n",
              "      <td>150.0</td>\n",
              "      <td>1900.0</td>\n",
              "      <td>Yarra City Council</td>\n",
              "      <td>-37.8093</td>\n",
              "      <td>144.9944</td>\n",
              "      <td>Northern Metropolitan</td>\n",
              "      <td>4019.0</td>\n",
              "    </tr>\n",
              "  </tbody>\n",
              "</table>\n",
              "</div>\n",
              "    <div class=\"colab-df-buttons\">\n",
              "\n",
              "  <div class=\"colab-df-container\">\n",
              "    <button class=\"colab-df-convert\" onclick=\"convertToInteractive('df-7b28a295-d856-43c1-b087-365db929c53c')\"\n",
              "            title=\"Convert this dataframe to an interactive table.\"\n",
              "            style=\"display:none;\">\n",
              "\n",
              "  <svg xmlns=\"http://www.w3.org/2000/svg\" height=\"24px\" viewBox=\"0 -960 960 960\">\n",
              "    <path d=\"M120-120v-720h720v720H120Zm60-500h600v-160H180v160Zm220 220h160v-160H400v160Zm0 220h160v-160H400v160ZM180-400h160v-160H180v160Zm440 0h160v-160H620v160ZM180-180h160v-160H180v160Zm440 0h160v-160H620v160Z\"/>\n",
              "  </svg>\n",
              "    </button>\n",
              "\n",
              "  <style>\n",
              "    .colab-df-container {\n",
              "      display:flex;\n",
              "      gap: 12px;\n",
              "    }\n",
              "\n",
              "    .colab-df-convert {\n",
              "      background-color: #E8F0FE;\n",
              "      border: none;\n",
              "      border-radius: 50%;\n",
              "      cursor: pointer;\n",
              "      display: none;\n",
              "      fill: #1967D2;\n",
              "      height: 32px;\n",
              "      padding: 0 0 0 0;\n",
              "      width: 32px;\n",
              "    }\n",
              "\n",
              "    .colab-df-convert:hover {\n",
              "      background-color: #E2EBFA;\n",
              "      box-shadow: 0px 1px 2px rgba(60, 64, 67, 0.3), 0px 1px 3px 1px rgba(60, 64, 67, 0.15);\n",
              "      fill: #174EA6;\n",
              "    }\n",
              "\n",
              "    .colab-df-buttons div {\n",
              "      margin-bottom: 4px;\n",
              "    }\n",
              "\n",
              "    [theme=dark] .colab-df-convert {\n",
              "      background-color: #3B4455;\n",
              "      fill: #D2E3FC;\n",
              "    }\n",
              "\n",
              "    [theme=dark] .colab-df-convert:hover {\n",
              "      background-color: #434B5C;\n",
              "      box-shadow: 0px 1px 3px 1px rgba(0, 0, 0, 0.15);\n",
              "      filter: drop-shadow(0px 1px 2px rgba(0, 0, 0, 0.3));\n",
              "      fill: #FFFFFF;\n",
              "    }\n",
              "  </style>\n",
              "\n",
              "    <script>\n",
              "      const buttonEl =\n",
              "        document.querySelector('#df-7b28a295-d856-43c1-b087-365db929c53c button.colab-df-convert');\n",
              "      buttonEl.style.display =\n",
              "        google.colab.kernel.accessAllowed ? 'block' : 'none';\n",
              "\n",
              "      async function convertToInteractive(key) {\n",
              "        const element = document.querySelector('#df-7b28a295-d856-43c1-b087-365db929c53c');\n",
              "        const dataTable =\n",
              "          await google.colab.kernel.invokeFunction('convertToInteractive',\n",
              "                                                    [key], {});\n",
              "        if (!dataTable) return;\n",
              "\n",
              "        const docLinkHtml = 'Like what you see? Visit the ' +\n",
              "          '<a target=\"_blank\" href=https://colab.research.google.com/notebooks/data_table.ipynb>data table notebook</a>'\n",
              "          + ' to learn more about interactive tables.';\n",
              "        element.innerHTML = '';\n",
              "        dataTable['output_type'] = 'display_data';\n",
              "        await google.colab.output.renderOutput(dataTable, element);\n",
              "        const docLink = document.createElement('div');\n",
              "        docLink.innerHTML = docLinkHtml;\n",
              "        element.appendChild(docLink);\n",
              "      }\n",
              "    </script>\n",
              "  </div>\n",
              "\n",
              "\n",
              "<div id=\"df-bf4be583-3460-4ba8-b639-f9699fa94cbf\">\n",
              "  <button class=\"colab-df-quickchart\" onclick=\"quickchart('df-bf4be583-3460-4ba8-b639-f9699fa94cbf')\"\n",
              "            title=\"Suggest charts.\"\n",
              "            style=\"display:none;\">\n",
              "\n",
              "<svg xmlns=\"http://www.w3.org/2000/svg\" height=\"24px\"viewBox=\"0 0 24 24\"\n",
              "     width=\"24px\">\n",
              "    <g>\n",
              "        <path d=\"M19 3H5c-1.1 0-2 .9-2 2v14c0 1.1.9 2 2 2h14c1.1 0 2-.9 2-2V5c0-1.1-.9-2-2-2zM9 17H7v-7h2v7zm4 0h-2V7h2v10zm4 0h-2v-4h2v4z\"/>\n",
              "    </g>\n",
              "</svg>\n",
              "  </button>\n",
              "\n",
              "<style>\n",
              "  .colab-df-quickchart {\n",
              "      --bg-color: #E8F0FE;\n",
              "      --fill-color: #1967D2;\n",
              "      --hover-bg-color: #E2EBFA;\n",
              "      --hover-fill-color: #174EA6;\n",
              "      --disabled-fill-color: #AAA;\n",
              "      --disabled-bg-color: #DDD;\n",
              "  }\n",
              "\n",
              "  [theme=dark] .colab-df-quickchart {\n",
              "      --bg-color: #3B4455;\n",
              "      --fill-color: #D2E3FC;\n",
              "      --hover-bg-color: #434B5C;\n",
              "      --hover-fill-color: #FFFFFF;\n",
              "      --disabled-bg-color: #3B4455;\n",
              "      --disabled-fill-color: #666;\n",
              "  }\n",
              "\n",
              "  .colab-df-quickchart {\n",
              "    background-color: var(--bg-color);\n",
              "    border: none;\n",
              "    border-radius: 50%;\n",
              "    cursor: pointer;\n",
              "    display: none;\n",
              "    fill: var(--fill-color);\n",
              "    height: 32px;\n",
              "    padding: 0;\n",
              "    width: 32px;\n",
              "  }\n",
              "\n",
              "  .colab-df-quickchart:hover {\n",
              "    background-color: var(--hover-bg-color);\n",
              "    box-shadow: 0 1px 2px rgba(60, 64, 67, 0.3), 0 1px 3px 1px rgba(60, 64, 67, 0.15);\n",
              "    fill: var(--button-hover-fill-color);\n",
              "  }\n",
              "\n",
              "  .colab-df-quickchart-complete:disabled,\n",
              "  .colab-df-quickchart-complete:disabled:hover {\n",
              "    background-color: var(--disabled-bg-color);\n",
              "    fill: var(--disabled-fill-color);\n",
              "    box-shadow: none;\n",
              "  }\n",
              "\n",
              "  .colab-df-spinner {\n",
              "    border: 2px solid var(--fill-color);\n",
              "    border-color: transparent;\n",
              "    border-bottom-color: var(--fill-color);\n",
              "    animation:\n",
              "      spin 1s steps(1) infinite;\n",
              "  }\n",
              "\n",
              "  @keyframes spin {\n",
              "    0% {\n",
              "      border-color: transparent;\n",
              "      border-bottom-color: var(--fill-color);\n",
              "      border-left-color: var(--fill-color);\n",
              "    }\n",
              "    20% {\n",
              "      border-color: transparent;\n",
              "      border-left-color: var(--fill-color);\n",
              "      border-top-color: var(--fill-color);\n",
              "    }\n",
              "    30% {\n",
              "      border-color: transparent;\n",
              "      border-left-color: var(--fill-color);\n",
              "      border-top-color: var(--fill-color);\n",
              "      border-right-color: var(--fill-color);\n",
              "    }\n",
              "    40% {\n",
              "      border-color: transparent;\n",
              "      border-right-color: var(--fill-color);\n",
              "      border-top-color: var(--fill-color);\n",
              "    }\n",
              "    60% {\n",
              "      border-color: transparent;\n",
              "      border-right-color: var(--fill-color);\n",
              "    }\n",
              "    80% {\n",
              "      border-color: transparent;\n",
              "      border-right-color: var(--fill-color);\n",
              "      border-bottom-color: var(--fill-color);\n",
              "    }\n",
              "    90% {\n",
              "      border-color: transparent;\n",
              "      border-bottom-color: var(--fill-color);\n",
              "    }\n",
              "  }\n",
              "</style>\n",
              "\n",
              "  <script>\n",
              "    async function quickchart(key) {\n",
              "      const quickchartButtonEl =\n",
              "        document.querySelector('#' + key + ' button');\n",
              "      quickchartButtonEl.disabled = true;  // To prevent multiple clicks.\n",
              "      quickchartButtonEl.classList.add('colab-df-spinner');\n",
              "      try {\n",
              "        const charts = await google.colab.kernel.invokeFunction(\n",
              "            'suggestCharts', [key], {});\n",
              "      } catch (error) {\n",
              "        console.error('Error during call to suggestCharts:', error);\n",
              "      }\n",
              "      quickchartButtonEl.classList.remove('colab-df-spinner');\n",
              "      quickchartButtonEl.classList.add('colab-df-quickchart-complete');\n",
              "    }\n",
              "    (() => {\n",
              "      let quickchartButtonEl =\n",
              "        document.querySelector('#df-bf4be583-3460-4ba8-b639-f9699fa94cbf button');\n",
              "      quickchartButtonEl.style.display =\n",
              "        google.colab.kernel.accessAllowed ? 'block' : 'none';\n",
              "    })();\n",
              "  </script>\n",
              "</div>\n",
              "    </div>\n",
              "  </div>\n"
            ]
          },
          "metadata": {},
          "execution_count": 4
        }
      ],
      "source": [
        "df=pd.read_csv(\"/content/drive/MyDrive/Melbourne_housing_FULL.csv\")\n",
        "df.head()"
      ]
    },
    {
      "cell_type": "code",
      "execution_count": 5,
      "metadata": {
        "colab": {
          "base_uri": "https://localhost:8080/"
        },
        "id": "U3t2J8UhgHVn",
        "outputId": "09daa0e3-b1fc-4b6f-961e-d70d0e12e18f"
      },
      "outputs": [
        {
          "output_type": "execute_result",
          "data": {
            "text/plain": [
              "(34857, 21)"
            ]
          },
          "metadata": {},
          "execution_count": 5
        }
      ],
      "source": [
        "df.shape"
      ]
    },
    {
      "cell_type": "code",
      "execution_count": 6,
      "metadata": {
        "colab": {
          "base_uri": "https://localhost:8080/"
        },
        "id": "G9kc4RZuYETC",
        "outputId": "aebb2752-c866-4964-d544-1867af8be85a"
      },
      "outputs": [
        {
          "output_type": "stream",
          "name": "stdout",
          "text": [
            "<class 'pandas.core.frame.DataFrame'>\n",
            "RangeIndex: 34857 entries, 0 to 34856\n",
            "Data columns (total 21 columns):\n",
            " #   Column         Non-Null Count  Dtype  \n",
            "---  ------         --------------  -----  \n",
            " 0   Suburb         34857 non-null  object \n",
            " 1   Address        34857 non-null  object \n",
            " 2   Rooms          34857 non-null  int64  \n",
            " 3   Type           34857 non-null  object \n",
            " 4   Price          27247 non-null  float64\n",
            " 5   Method         34857 non-null  object \n",
            " 6   SellerG        34857 non-null  object \n",
            " 7   Date           34857 non-null  object \n",
            " 8   Distance       34856 non-null  float64\n",
            " 9   Postcode       34856 non-null  float64\n",
            " 10  Bedroom2       26640 non-null  float64\n",
            " 11  Bathroom       26631 non-null  float64\n",
            " 12  Car            26129 non-null  float64\n",
            " 13  Landsize       23047 non-null  float64\n",
            " 14  BuildingArea   13742 non-null  float64\n",
            " 15  YearBuilt      15551 non-null  float64\n",
            " 16  CouncilArea    34854 non-null  object \n",
            " 17  Lattitude      26881 non-null  float64\n",
            " 18  Longtitude     26881 non-null  float64\n",
            " 19  Regionname     34854 non-null  object \n",
            " 20  Propertycount  34854 non-null  float64\n",
            "dtypes: float64(12), int64(1), object(8)\n",
            "memory usage: 5.6+ MB\n"
          ]
        }
      ],
      "source": [
        "df.info()"
      ]
    },
    {
      "cell_type": "code",
      "execution_count": 7,
      "metadata": {
        "colab": {
          "base_uri": "https://localhost:8080/"
        },
        "id": "r-0JzVCSYrDE",
        "outputId": "f881a05a-efda-40f9-c972-9bbff16df179"
      },
      "outputs": [
        {
          "output_type": "execute_result",
          "data": {
            "text/plain": [
              "Suburb               0\n",
              "Address              0\n",
              "Rooms                0\n",
              "Type                 0\n",
              "Price             7610\n",
              "Method               0\n",
              "SellerG              0\n",
              "Date                 0\n",
              "Distance             1\n",
              "Postcode             1\n",
              "Bedroom2          8217\n",
              "Bathroom          8226\n",
              "Car               8728\n",
              "Landsize         11810\n",
              "BuildingArea     21115\n",
              "YearBuilt        19306\n",
              "CouncilArea          3\n",
              "Lattitude         7976\n",
              "Longtitude        7976\n",
              "Regionname           3\n",
              "Propertycount        3\n",
              "dtype: int64"
            ]
          },
          "metadata": {},
          "execution_count": 7
        }
      ],
      "source": [
        "df.isnull().sum()"
      ]
    },
    {
      "cell_type": "code",
      "execution_count": 8,
      "metadata": {
        "colab": {
          "base_uri": "https://localhost:8080/"
        },
        "id": "qcR9u4epgO3v",
        "outputId": "d1568c42-a9a2-489b-952e-fb4be91263ac"
      },
      "outputs": [
        {
          "output_type": "stream",
          "name": "stdout",
          "text": [
            "<class 'pandas.core.frame.DataFrame'>\n",
            "RangeIndex: 34857 entries, 0 to 34856\n",
            "Data columns (total 21 columns):\n",
            " #   Column         Non-Null Count  Dtype   \n",
            "---  ------         --------------  -----   \n",
            " 0   Suburb         34857 non-null  category\n",
            " 1   Address        34857 non-null  category\n",
            " 2   Rooms          34857 non-null  int64   \n",
            " 3   Type           34857 non-null  category\n",
            " 4   Price          27247 non-null  float64 \n",
            " 5   Method         34857 non-null  category\n",
            " 6   SellerG        34857 non-null  category\n",
            " 7   Date           34857 non-null  category\n",
            " 8   Distance       34856 non-null  float64 \n",
            " 9   Postcode       34856 non-null  float64 \n",
            " 10  Bedroom2       26640 non-null  float64 \n",
            " 11  Bathroom       26631 non-null  float64 \n",
            " 12  Car            26129 non-null  float64 \n",
            " 13  Landsize       23047 non-null  float64 \n",
            " 14  BuildingArea   13742 non-null  float64 \n",
            " 15  YearBuilt      15551 non-null  float64 \n",
            " 16  CouncilArea    34854 non-null  category\n",
            " 17  Lattitude      26881 non-null  float64 \n",
            " 18  Longtitude     26881 non-null  float64 \n",
            " 19  Regionname     34854 non-null  category\n",
            " 20  Propertycount  34854 non-null  float64 \n",
            "dtypes: category(8), float64(12), int64(1)\n",
            "memory usage: 5.2 MB\n"
          ]
        }
      ],
      "source": [
        "cat_col=df.select_dtypes(\"object\")\n",
        "for i in cat_col:\n",
        "  df[i]=df[i].astype(\"category\")\n",
        "df.info()"
      ]
    },
    {
      "cell_type": "code",
      "execution_count": 9,
      "metadata": {
        "colab": {
          "base_uri": "https://localhost:8080/"
        },
        "id": "gLH-ot1Vgv_6",
        "outputId": "3a68387c-b16a-461b-f222-ad742769e220"
      },
      "outputs": [
        {
          "output_type": "stream",
          "name": "stdout",
          "text": [
            "Index(['Suburb', 'Address', 'Type', 'Method', 'SellerG', 'Date', 'CouncilArea', 'Regionname'], dtype='object')\n"
          ]
        },
        {
          "output_type": "execute_result",
          "data": {
            "text/plain": [
              "(['Rooms', 'Bedroom2', 'Bathroom', 'Car'],\n",
              " ['Suburb', 'Address', 'SellerG', 'Date', 'CouncilArea'],\n",
              " ['Type', 'Method', 'Regionname'])"
            ]
          },
          "metadata": {},
          "execution_count": 9
        }
      ],
      "source": [
        "num_but_cat=[col for col in df.select_dtypes([\"int\",\"float\"]) if df[col].nunique() > 10 and df[col].nunique() <20 and df[col].dtypes != \"O\"]\n",
        "cat_but_card=[col for col in df.select_dtypes(\"category\") if df[col].nunique()>20]\n",
        "print(cat_col.columns)\n",
        "cat_col=[col for col in cat_col if col not in cat_but_card]\n",
        "num_but_cat,cat_but_card,cat_col"
      ]
    },
    {
      "cell_type": "code",
      "execution_count": 10,
      "metadata": {
        "id": "X3bNXi1cjKnw"
      },
      "outputs": [],
      "source": [
        "df=df.drop_duplicates()"
      ]
    },
    {
      "cell_type": "code",
      "execution_count": 11,
      "metadata": {
        "colab": {
          "base_uri": "https://localhost:8080/"
        },
        "id": "sq3l0JcJkHmf",
        "outputId": "680dce0a-3492-45c3-eebc-9eb418f24750"
      },
      "outputs": [
        {
          "output_type": "execute_result",
          "data": {
            "text/plain": [
              "(34856, 21)"
            ]
          },
          "metadata": {},
          "execution_count": 11
        }
      ],
      "source": [
        "df.shape"
      ]
    },
    {
      "cell_type": "code",
      "execution_count": 12,
      "metadata": {
        "colab": {
          "base_uri": "https://localhost:8080/",
          "height": 687
        },
        "id": "6YlB1dpMpS-f",
        "outputId": "b416c8c4-b90b-459d-81fd-8289ef248d60"
      },
      "outputs": [
        {
          "output_type": "execute_result",
          "data": {
            "text/plain": [
              "               Suburb             Address  Rooms Type  Price Method        SellerG        Date  Distance  Postcode  Bedroom2  Bathroom  Car  Landsize  BuildingArea  YearBuilt                CouncilArea  Lattitude  Longtitude                  Regionname  Propertycount\n",
              "0          Abbotsford       68 Studley St      2    h    NaN     SS         Jellis   3/09/2016       2.5    3067.0       2.0       1.0  1.0     126.0           NaN        NaN         Yarra City Council  -37.80140   144.99580       Northern Metropolitan         4019.0\n",
              "3          Abbotsford  18/659 Victoria St      3    u    NaN     VB         Rounds   4/02/2016       2.5    3067.0       3.0       2.0  1.0       0.0           NaN        NaN         Yarra City Council  -37.81140   145.01160       Northern Metropolitan         4019.0\n",
              "7          Abbotsford        16 Maugie St      4    h    NaN     SN         Nelson   6/08/2016       2.5    3067.0       3.0       2.0  2.0     400.0         220.0     2006.0         Yarra City Council  -37.79650   144.99650       Northern Metropolitan         4019.0\n",
              "8          Abbotsford        53 Turner St      2    h    NaN      S         Biggin   6/08/2016       2.5    3067.0       4.0       1.0  2.0     201.0           NaN     1900.0         Yarra City Council  -37.79950   144.99740       Northern Metropolitan         4019.0\n",
              "9          Abbotsford        99 Turner St      2    h    NaN      S        Collins   6/08/2016       2.5    3067.0       3.0       2.0  1.0     202.0           NaN     1900.0         Yarra City Council  -37.79960   144.99890       Northern Metropolitan         4019.0\n",
              "...               ...                 ...    ...  ...    ...    ...            ...         ...       ...       ...       ...       ...  ...       ...           ...        ...                        ...        ...         ...                         ...            ...\n",
              "34829  West Melbourne    9/11 Anderson St      3    u    NaN      S  hockingstuart  24/02/2018       3.1    3003.0       NaN       NaN  NaN       NaN           NaN        NaN     Melbourne City Council        NaN         NaN       Northern Metropolitan         2230.0\n",
              "34834   Wheelers Hill        112 Jells Rd      4    h    NaN     PN      Harcourts  24/02/2018      16.7    3150.0       4.0       2.0  2.0     714.0           NaN        NaN        Monash City Council  -37.90287   145.19011  South-Eastern Metropolitan         7392.0\n",
              "34835   Wheelers Hill          20 Mill Ct      3    h    NaN      S          Barry  24/02/2018      16.7    3150.0       3.0       2.0  2.0     677.0           NaN        NaN        Monash City Council  -37.91905   145.19105  South-Eastern Metropolitan         7392.0\n",
              "34845         Windsor          13 Mary St      4    h    NaN      W         Jellis  24/02/2018       4.6    3181.0       4.0       3.0  2.0     279.0         237.0     2009.0  Port Phillip City Council  -37.85418   144.99697       Southern Metropolitan         4380.0\n",
              "34850         Wollert    15 Rockgarden Wy      3    h    NaN     SP             LJ  24/02/2018      25.5    3750.0       3.0       2.0  2.0     268.0         135.0     2016.0    Whittlesea City Council  -37.61094   145.04281       Northern Metropolitan         2940.0\n",
              "\n",
              "[7609 rows x 21 columns]"
            ],
            "text/html": [
              "\n",
              "  <div id=\"df-5d1eb330-b273-4e88-87f9-4a3b3b0d6c2d\" class=\"colab-df-container\">\n",
              "    <div>\n",
              "<style scoped>\n",
              "    .dataframe tbody tr th:only-of-type {\n",
              "        vertical-align: middle;\n",
              "    }\n",
              "\n",
              "    .dataframe tbody tr th {\n",
              "        vertical-align: top;\n",
              "    }\n",
              "\n",
              "    .dataframe thead th {\n",
              "        text-align: right;\n",
              "    }\n",
              "</style>\n",
              "<table border=\"1\" class=\"dataframe\">\n",
              "  <thead>\n",
              "    <tr style=\"text-align: right;\">\n",
              "      <th></th>\n",
              "      <th>Suburb</th>\n",
              "      <th>Address</th>\n",
              "      <th>Rooms</th>\n",
              "      <th>Type</th>\n",
              "      <th>Price</th>\n",
              "      <th>Method</th>\n",
              "      <th>SellerG</th>\n",
              "      <th>Date</th>\n",
              "      <th>Distance</th>\n",
              "      <th>Postcode</th>\n",
              "      <th>Bedroom2</th>\n",
              "      <th>Bathroom</th>\n",
              "      <th>Car</th>\n",
              "      <th>Landsize</th>\n",
              "      <th>BuildingArea</th>\n",
              "      <th>YearBuilt</th>\n",
              "      <th>CouncilArea</th>\n",
              "      <th>Lattitude</th>\n",
              "      <th>Longtitude</th>\n",
              "      <th>Regionname</th>\n",
              "      <th>Propertycount</th>\n",
              "    </tr>\n",
              "  </thead>\n",
              "  <tbody>\n",
              "    <tr>\n",
              "      <th>0</th>\n",
              "      <td>Abbotsford</td>\n",
              "      <td>68 Studley St</td>\n",
              "      <td>2</td>\n",
              "      <td>h</td>\n",
              "      <td>NaN</td>\n",
              "      <td>SS</td>\n",
              "      <td>Jellis</td>\n",
              "      <td>3/09/2016</td>\n",
              "      <td>2.5</td>\n",
              "      <td>3067.0</td>\n",
              "      <td>2.0</td>\n",
              "      <td>1.0</td>\n",
              "      <td>1.0</td>\n",
              "      <td>126.0</td>\n",
              "      <td>NaN</td>\n",
              "      <td>NaN</td>\n",
              "      <td>Yarra City Council</td>\n",
              "      <td>-37.80140</td>\n",
              "      <td>144.99580</td>\n",
              "      <td>Northern Metropolitan</td>\n",
              "      <td>4019.0</td>\n",
              "    </tr>\n",
              "    <tr>\n",
              "      <th>3</th>\n",
              "      <td>Abbotsford</td>\n",
              "      <td>18/659 Victoria St</td>\n",
              "      <td>3</td>\n",
              "      <td>u</td>\n",
              "      <td>NaN</td>\n",
              "      <td>VB</td>\n",
              "      <td>Rounds</td>\n",
              "      <td>4/02/2016</td>\n",
              "      <td>2.5</td>\n",
              "      <td>3067.0</td>\n",
              "      <td>3.0</td>\n",
              "      <td>2.0</td>\n",
              "      <td>1.0</td>\n",
              "      <td>0.0</td>\n",
              "      <td>NaN</td>\n",
              "      <td>NaN</td>\n",
              "      <td>Yarra City Council</td>\n",
              "      <td>-37.81140</td>\n",
              "      <td>145.01160</td>\n",
              "      <td>Northern Metropolitan</td>\n",
              "      <td>4019.0</td>\n",
              "    </tr>\n",
              "    <tr>\n",
              "      <th>7</th>\n",
              "      <td>Abbotsford</td>\n",
              "      <td>16 Maugie St</td>\n",
              "      <td>4</td>\n",
              "      <td>h</td>\n",
              "      <td>NaN</td>\n",
              "      <td>SN</td>\n",
              "      <td>Nelson</td>\n",
              "      <td>6/08/2016</td>\n",
              "      <td>2.5</td>\n",
              "      <td>3067.0</td>\n",
              "      <td>3.0</td>\n",
              "      <td>2.0</td>\n",
              "      <td>2.0</td>\n",
              "      <td>400.0</td>\n",
              "      <td>220.0</td>\n",
              "      <td>2006.0</td>\n",
              "      <td>Yarra City Council</td>\n",
              "      <td>-37.79650</td>\n",
              "      <td>144.99650</td>\n",
              "      <td>Northern Metropolitan</td>\n",
              "      <td>4019.0</td>\n",
              "    </tr>\n",
              "    <tr>\n",
              "      <th>8</th>\n",
              "      <td>Abbotsford</td>\n",
              "      <td>53 Turner St</td>\n",
              "      <td>2</td>\n",
              "      <td>h</td>\n",
              "      <td>NaN</td>\n",
              "      <td>S</td>\n",
              "      <td>Biggin</td>\n",
              "      <td>6/08/2016</td>\n",
              "      <td>2.5</td>\n",
              "      <td>3067.0</td>\n",
              "      <td>4.0</td>\n",
              "      <td>1.0</td>\n",
              "      <td>2.0</td>\n",
              "      <td>201.0</td>\n",
              "      <td>NaN</td>\n",
              "      <td>1900.0</td>\n",
              "      <td>Yarra City Council</td>\n",
              "      <td>-37.79950</td>\n",
              "      <td>144.99740</td>\n",
              "      <td>Northern Metropolitan</td>\n",
              "      <td>4019.0</td>\n",
              "    </tr>\n",
              "    <tr>\n",
              "      <th>9</th>\n",
              "      <td>Abbotsford</td>\n",
              "      <td>99 Turner St</td>\n",
              "      <td>2</td>\n",
              "      <td>h</td>\n",
              "      <td>NaN</td>\n",
              "      <td>S</td>\n",
              "      <td>Collins</td>\n",
              "      <td>6/08/2016</td>\n",
              "      <td>2.5</td>\n",
              "      <td>3067.0</td>\n",
              "      <td>3.0</td>\n",
              "      <td>2.0</td>\n",
              "      <td>1.0</td>\n",
              "      <td>202.0</td>\n",
              "      <td>NaN</td>\n",
              "      <td>1900.0</td>\n",
              "      <td>Yarra City Council</td>\n",
              "      <td>-37.79960</td>\n",
              "      <td>144.99890</td>\n",
              "      <td>Northern Metropolitan</td>\n",
              "      <td>4019.0</td>\n",
              "    </tr>\n",
              "    <tr>\n",
              "      <th>...</th>\n",
              "      <td>...</td>\n",
              "      <td>...</td>\n",
              "      <td>...</td>\n",
              "      <td>...</td>\n",
              "      <td>...</td>\n",
              "      <td>...</td>\n",
              "      <td>...</td>\n",
              "      <td>...</td>\n",
              "      <td>...</td>\n",
              "      <td>...</td>\n",
              "      <td>...</td>\n",
              "      <td>...</td>\n",
              "      <td>...</td>\n",
              "      <td>...</td>\n",
              "      <td>...</td>\n",
              "      <td>...</td>\n",
              "      <td>...</td>\n",
              "      <td>...</td>\n",
              "      <td>...</td>\n",
              "      <td>...</td>\n",
              "      <td>...</td>\n",
              "    </tr>\n",
              "    <tr>\n",
              "      <th>34829</th>\n",
              "      <td>West Melbourne</td>\n",
              "      <td>9/11 Anderson St</td>\n",
              "      <td>3</td>\n",
              "      <td>u</td>\n",
              "      <td>NaN</td>\n",
              "      <td>S</td>\n",
              "      <td>hockingstuart</td>\n",
              "      <td>24/02/2018</td>\n",
              "      <td>3.1</td>\n",
              "      <td>3003.0</td>\n",
              "      <td>NaN</td>\n",
              "      <td>NaN</td>\n",
              "      <td>NaN</td>\n",
              "      <td>NaN</td>\n",
              "      <td>NaN</td>\n",
              "      <td>NaN</td>\n",
              "      <td>Melbourne City Council</td>\n",
              "      <td>NaN</td>\n",
              "      <td>NaN</td>\n",
              "      <td>Northern Metropolitan</td>\n",
              "      <td>2230.0</td>\n",
              "    </tr>\n",
              "    <tr>\n",
              "      <th>34834</th>\n",
              "      <td>Wheelers Hill</td>\n",
              "      <td>112 Jells Rd</td>\n",
              "      <td>4</td>\n",
              "      <td>h</td>\n",
              "      <td>NaN</td>\n",
              "      <td>PN</td>\n",
              "      <td>Harcourts</td>\n",
              "      <td>24/02/2018</td>\n",
              "      <td>16.7</td>\n",
              "      <td>3150.0</td>\n",
              "      <td>4.0</td>\n",
              "      <td>2.0</td>\n",
              "      <td>2.0</td>\n",
              "      <td>714.0</td>\n",
              "      <td>NaN</td>\n",
              "      <td>NaN</td>\n",
              "      <td>Monash City Council</td>\n",
              "      <td>-37.90287</td>\n",
              "      <td>145.19011</td>\n",
              "      <td>South-Eastern Metropolitan</td>\n",
              "      <td>7392.0</td>\n",
              "    </tr>\n",
              "    <tr>\n",
              "      <th>34835</th>\n",
              "      <td>Wheelers Hill</td>\n",
              "      <td>20 Mill Ct</td>\n",
              "      <td>3</td>\n",
              "      <td>h</td>\n",
              "      <td>NaN</td>\n",
              "      <td>S</td>\n",
              "      <td>Barry</td>\n",
              "      <td>24/02/2018</td>\n",
              "      <td>16.7</td>\n",
              "      <td>3150.0</td>\n",
              "      <td>3.0</td>\n",
              "      <td>2.0</td>\n",
              "      <td>2.0</td>\n",
              "      <td>677.0</td>\n",
              "      <td>NaN</td>\n",
              "      <td>NaN</td>\n",
              "      <td>Monash City Council</td>\n",
              "      <td>-37.91905</td>\n",
              "      <td>145.19105</td>\n",
              "      <td>South-Eastern Metropolitan</td>\n",
              "      <td>7392.0</td>\n",
              "    </tr>\n",
              "    <tr>\n",
              "      <th>34845</th>\n",
              "      <td>Windsor</td>\n",
              "      <td>13 Mary St</td>\n",
              "      <td>4</td>\n",
              "      <td>h</td>\n",
              "      <td>NaN</td>\n",
              "      <td>W</td>\n",
              "      <td>Jellis</td>\n",
              "      <td>24/02/2018</td>\n",
              "      <td>4.6</td>\n",
              "      <td>3181.0</td>\n",
              "      <td>4.0</td>\n",
              "      <td>3.0</td>\n",
              "      <td>2.0</td>\n",
              "      <td>279.0</td>\n",
              "      <td>237.0</td>\n",
              "      <td>2009.0</td>\n",
              "      <td>Port Phillip City Council</td>\n",
              "      <td>-37.85418</td>\n",
              "      <td>144.99697</td>\n",
              "      <td>Southern Metropolitan</td>\n",
              "      <td>4380.0</td>\n",
              "    </tr>\n",
              "    <tr>\n",
              "      <th>34850</th>\n",
              "      <td>Wollert</td>\n",
              "      <td>15 Rockgarden Wy</td>\n",
              "      <td>3</td>\n",
              "      <td>h</td>\n",
              "      <td>NaN</td>\n",
              "      <td>SP</td>\n",
              "      <td>LJ</td>\n",
              "      <td>24/02/2018</td>\n",
              "      <td>25.5</td>\n",
              "      <td>3750.0</td>\n",
              "      <td>3.0</td>\n",
              "      <td>2.0</td>\n",
              "      <td>2.0</td>\n",
              "      <td>268.0</td>\n",
              "      <td>135.0</td>\n",
              "      <td>2016.0</td>\n",
              "      <td>Whittlesea City Council</td>\n",
              "      <td>-37.61094</td>\n",
              "      <td>145.04281</td>\n",
              "      <td>Northern Metropolitan</td>\n",
              "      <td>2940.0</td>\n",
              "    </tr>\n",
              "  </tbody>\n",
              "</table>\n",
              "<p>7609 rows × 21 columns</p>\n",
              "</div>\n",
              "    <div class=\"colab-df-buttons\">\n",
              "\n",
              "  <div class=\"colab-df-container\">\n",
              "    <button class=\"colab-df-convert\" onclick=\"convertToInteractive('df-5d1eb330-b273-4e88-87f9-4a3b3b0d6c2d')\"\n",
              "            title=\"Convert this dataframe to an interactive table.\"\n",
              "            style=\"display:none;\">\n",
              "\n",
              "  <svg xmlns=\"http://www.w3.org/2000/svg\" height=\"24px\" viewBox=\"0 -960 960 960\">\n",
              "    <path d=\"M120-120v-720h720v720H120Zm60-500h600v-160H180v160Zm220 220h160v-160H400v160Zm0 220h160v-160H400v160ZM180-400h160v-160H180v160Zm440 0h160v-160H620v160ZM180-180h160v-160H180v160Zm440 0h160v-160H620v160Z\"/>\n",
              "  </svg>\n",
              "    </button>\n",
              "\n",
              "  <style>\n",
              "    .colab-df-container {\n",
              "      display:flex;\n",
              "      gap: 12px;\n",
              "    }\n",
              "\n",
              "    .colab-df-convert {\n",
              "      background-color: #E8F0FE;\n",
              "      border: none;\n",
              "      border-radius: 50%;\n",
              "      cursor: pointer;\n",
              "      display: none;\n",
              "      fill: #1967D2;\n",
              "      height: 32px;\n",
              "      padding: 0 0 0 0;\n",
              "      width: 32px;\n",
              "    }\n",
              "\n",
              "    .colab-df-convert:hover {\n",
              "      background-color: #E2EBFA;\n",
              "      box-shadow: 0px 1px 2px rgba(60, 64, 67, 0.3), 0px 1px 3px 1px rgba(60, 64, 67, 0.15);\n",
              "      fill: #174EA6;\n",
              "    }\n",
              "\n",
              "    .colab-df-buttons div {\n",
              "      margin-bottom: 4px;\n",
              "    }\n",
              "\n",
              "    [theme=dark] .colab-df-convert {\n",
              "      background-color: #3B4455;\n",
              "      fill: #D2E3FC;\n",
              "    }\n",
              "\n",
              "    [theme=dark] .colab-df-convert:hover {\n",
              "      background-color: #434B5C;\n",
              "      box-shadow: 0px 1px 3px 1px rgba(0, 0, 0, 0.15);\n",
              "      filter: drop-shadow(0px 1px 2px rgba(0, 0, 0, 0.3));\n",
              "      fill: #FFFFFF;\n",
              "    }\n",
              "  </style>\n",
              "\n",
              "    <script>\n",
              "      const buttonEl =\n",
              "        document.querySelector('#df-5d1eb330-b273-4e88-87f9-4a3b3b0d6c2d button.colab-df-convert');\n",
              "      buttonEl.style.display =\n",
              "        google.colab.kernel.accessAllowed ? 'block' : 'none';\n",
              "\n",
              "      async function convertToInteractive(key) {\n",
              "        const element = document.querySelector('#df-5d1eb330-b273-4e88-87f9-4a3b3b0d6c2d');\n",
              "        const dataTable =\n",
              "          await google.colab.kernel.invokeFunction('convertToInteractive',\n",
              "                                                    [key], {});\n",
              "        if (!dataTable) return;\n",
              "\n",
              "        const docLinkHtml = 'Like what you see? Visit the ' +\n",
              "          '<a target=\"_blank\" href=https://colab.research.google.com/notebooks/data_table.ipynb>data table notebook</a>'\n",
              "          + ' to learn more about interactive tables.';\n",
              "        element.innerHTML = '';\n",
              "        dataTable['output_type'] = 'display_data';\n",
              "        await google.colab.output.renderOutput(dataTable, element);\n",
              "        const docLink = document.createElement('div');\n",
              "        docLink.innerHTML = docLinkHtml;\n",
              "        element.appendChild(docLink);\n",
              "      }\n",
              "    </script>\n",
              "  </div>\n",
              "\n",
              "\n",
              "<div id=\"df-df01432d-d754-49e5-b2a6-1e532b13d206\">\n",
              "  <button class=\"colab-df-quickchart\" onclick=\"quickchart('df-df01432d-d754-49e5-b2a6-1e532b13d206')\"\n",
              "            title=\"Suggest charts.\"\n",
              "            style=\"display:none;\">\n",
              "\n",
              "<svg xmlns=\"http://www.w3.org/2000/svg\" height=\"24px\"viewBox=\"0 0 24 24\"\n",
              "     width=\"24px\">\n",
              "    <g>\n",
              "        <path d=\"M19 3H5c-1.1 0-2 .9-2 2v14c0 1.1.9 2 2 2h14c1.1 0 2-.9 2-2V5c0-1.1-.9-2-2-2zM9 17H7v-7h2v7zm4 0h-2V7h2v10zm4 0h-2v-4h2v4z\"/>\n",
              "    </g>\n",
              "</svg>\n",
              "  </button>\n",
              "\n",
              "<style>\n",
              "  .colab-df-quickchart {\n",
              "      --bg-color: #E8F0FE;\n",
              "      --fill-color: #1967D2;\n",
              "      --hover-bg-color: #E2EBFA;\n",
              "      --hover-fill-color: #174EA6;\n",
              "      --disabled-fill-color: #AAA;\n",
              "      --disabled-bg-color: #DDD;\n",
              "  }\n",
              "\n",
              "  [theme=dark] .colab-df-quickchart {\n",
              "      --bg-color: #3B4455;\n",
              "      --fill-color: #D2E3FC;\n",
              "      --hover-bg-color: #434B5C;\n",
              "      --hover-fill-color: #FFFFFF;\n",
              "      --disabled-bg-color: #3B4455;\n",
              "      --disabled-fill-color: #666;\n",
              "  }\n",
              "\n",
              "  .colab-df-quickchart {\n",
              "    background-color: var(--bg-color);\n",
              "    border: none;\n",
              "    border-radius: 50%;\n",
              "    cursor: pointer;\n",
              "    display: none;\n",
              "    fill: var(--fill-color);\n",
              "    height: 32px;\n",
              "    padding: 0;\n",
              "    width: 32px;\n",
              "  }\n",
              "\n",
              "  .colab-df-quickchart:hover {\n",
              "    background-color: var(--hover-bg-color);\n",
              "    box-shadow: 0 1px 2px rgba(60, 64, 67, 0.3), 0 1px 3px 1px rgba(60, 64, 67, 0.15);\n",
              "    fill: var(--button-hover-fill-color);\n",
              "  }\n",
              "\n",
              "  .colab-df-quickchart-complete:disabled,\n",
              "  .colab-df-quickchart-complete:disabled:hover {\n",
              "    background-color: var(--disabled-bg-color);\n",
              "    fill: var(--disabled-fill-color);\n",
              "    box-shadow: none;\n",
              "  }\n",
              "\n",
              "  .colab-df-spinner {\n",
              "    border: 2px solid var(--fill-color);\n",
              "    border-color: transparent;\n",
              "    border-bottom-color: var(--fill-color);\n",
              "    animation:\n",
              "      spin 1s steps(1) infinite;\n",
              "  }\n",
              "\n",
              "  @keyframes spin {\n",
              "    0% {\n",
              "      border-color: transparent;\n",
              "      border-bottom-color: var(--fill-color);\n",
              "      border-left-color: var(--fill-color);\n",
              "    }\n",
              "    20% {\n",
              "      border-color: transparent;\n",
              "      border-left-color: var(--fill-color);\n",
              "      border-top-color: var(--fill-color);\n",
              "    }\n",
              "    30% {\n",
              "      border-color: transparent;\n",
              "      border-left-color: var(--fill-color);\n",
              "      border-top-color: var(--fill-color);\n",
              "      border-right-color: var(--fill-color);\n",
              "    }\n",
              "    40% {\n",
              "      border-color: transparent;\n",
              "      border-right-color: var(--fill-color);\n",
              "      border-top-color: var(--fill-color);\n",
              "    }\n",
              "    60% {\n",
              "      border-color: transparent;\n",
              "      border-right-color: var(--fill-color);\n",
              "    }\n",
              "    80% {\n",
              "      border-color: transparent;\n",
              "      border-right-color: var(--fill-color);\n",
              "      border-bottom-color: var(--fill-color);\n",
              "    }\n",
              "    90% {\n",
              "      border-color: transparent;\n",
              "      border-bottom-color: var(--fill-color);\n",
              "    }\n",
              "  }\n",
              "</style>\n",
              "\n",
              "  <script>\n",
              "    async function quickchart(key) {\n",
              "      const quickchartButtonEl =\n",
              "        document.querySelector('#' + key + ' button');\n",
              "      quickchartButtonEl.disabled = true;  // To prevent multiple clicks.\n",
              "      quickchartButtonEl.classList.add('colab-df-spinner');\n",
              "      try {\n",
              "        const charts = await google.colab.kernel.invokeFunction(\n",
              "            'suggestCharts', [key], {});\n",
              "      } catch (error) {\n",
              "        console.error('Error during call to suggestCharts:', error);\n",
              "      }\n",
              "      quickchartButtonEl.classList.remove('colab-df-spinner');\n",
              "      quickchartButtonEl.classList.add('colab-df-quickchart-complete');\n",
              "    }\n",
              "    (() => {\n",
              "      let quickchartButtonEl =\n",
              "        document.querySelector('#df-df01432d-d754-49e5-b2a6-1e532b13d206 button');\n",
              "      quickchartButtonEl.style.display =\n",
              "        google.colab.kernel.accessAllowed ? 'block' : 'none';\n",
              "    })();\n",
              "  </script>\n",
              "</div>\n",
              "    </div>\n",
              "  </div>\n"
            ]
          },
          "metadata": {},
          "execution_count": 12
        }
      ],
      "source": [
        "df[df['Price'].isna()]"
      ]
    },
    {
      "cell_type": "code",
      "execution_count": 13,
      "metadata": {
        "colab": {
          "base_uri": "https://localhost:8080/"
        },
        "id": "fUb7uNjCk8o9",
        "outputId": "1796abc6-673b-4cfd-dae0-69225a8d4f39"
      },
      "outputs": [
        {
          "output_type": "execute_result",
          "data": {
            "text/plain": [
              "Suburb               0\n",
              "Address              0\n",
              "Rooms                0\n",
              "Type                 0\n",
              "Price                6\n",
              "Method               0\n",
              "SellerG              0\n",
              "Date                 0\n",
              "Distance             1\n",
              "Postcode             1\n",
              "Bedroom2          8217\n",
              "Bathroom          8226\n",
              "Car               8728\n",
              "Landsize         11810\n",
              "BuildingArea     21115\n",
              "YearBuilt        19306\n",
              "CouncilArea          3\n",
              "Lattitude         7976\n",
              "Longtitude        7976\n",
              "Regionname           3\n",
              "Propertycount        3\n",
              "dtype: int64"
            ]
          },
          "metadata": {},
          "execution_count": 13
        }
      ],
      "source": [
        "suburb_col = df['Suburb'].unique()\n",
        "\n",
        "for col in suburb_col:\n",
        "    mask = (df['Suburb'] == col) & (df['Price'].isna())\n",
        "    mean = df[(df['Suburb'] == col) & ~df['Price'].isna()]['Price'].mean()\n",
        "    df.loc[mask, 'Price'] = mean\n",
        "df.isna().sum()"
      ]
    },
    {
      "cell_type": "code",
      "execution_count": 14,
      "metadata": {
        "colab": {
          "base_uri": "https://localhost:8080/"
        },
        "id": "35HTaSXG0qI-",
        "outputId": "ef44d23b-c9f1-4237-8c4d-80cf3d9e0c64"
      },
      "outputs": [
        {
          "output_type": "execute_result",
          "data": {
            "text/plain": [
              "Suburb               0\n",
              "Address              0\n",
              "Rooms                0\n",
              "Type                 0\n",
              "Price                6\n",
              "Method               0\n",
              "SellerG              0\n",
              "Date                 0\n",
              "Distance             1\n",
              "Postcode             1\n",
              "Bedroom2          8217\n",
              "Bathroom          8226\n",
              "Car               8728\n",
              "Landsize         11810\n",
              "BuildingArea       123\n",
              "YearBuilt        19306\n",
              "CouncilArea          3\n",
              "Lattitude         7976\n",
              "Longtitude        7976\n",
              "Regionname           3\n",
              "Propertycount        3\n",
              "dtype: int64"
            ]
          },
          "metadata": {},
          "execution_count": 14
        }
      ],
      "source": [
        "for col in suburb_col:\n",
        "\n",
        "    mask = (df['Suburb'] == col) & (df['BuildingArea'].isna())\n",
        "    mean = df[(df['Suburb'] == col) & ~df['BuildingArea'].isna()]['BuildingArea'].mean()\n",
        "    df.loc[mask, 'BuildingArea'] = mean\n",
        "\n",
        "df.isna().sum()"
      ]
    },
    {
      "cell_type": "code",
      "execution_count": 15,
      "metadata": {
        "colab": {
          "base_uri": "https://localhost:8080/"
        },
        "id": "wmj6xoTb5jKd",
        "outputId": "d16f94a1-befa-448d-ba0d-f8a722123bdc"
      },
      "outputs": [
        {
          "output_type": "execute_result",
          "data": {
            "text/plain": [
              "Suburb               0\n",
              "Address              0\n",
              "Rooms                0\n",
              "Type                 0\n",
              "Price                6\n",
              "Method               0\n",
              "SellerG              0\n",
              "Date                 0\n",
              "Distance             1\n",
              "Postcode             1\n",
              "Bedroom2          8217\n",
              "Bathroom          8226\n",
              "Car               8728\n",
              "Landsize            99\n",
              "BuildingArea       123\n",
              "YearBuilt        19306\n",
              "CouncilArea          3\n",
              "Lattitude         7976\n",
              "Longtitude        7976\n",
              "Regionname           3\n",
              "Propertycount        3\n",
              "dtype: int64"
            ]
          },
          "metadata": {},
          "execution_count": 15
        }
      ],
      "source": [
        "for col in suburb_col:\n",
        "\n",
        "    mask = (df['Suburb'] == col) & (df['Landsize'].isna())\n",
        "    mean = df[(df['Suburb'] == col) & ~df['Landsize'].isna()]['Landsize'].mean()\n",
        "    df.loc[mask, 'Landsize'] = mean\n",
        "\n",
        "df.isna().sum()"
      ]
    },
    {
      "cell_type": "code",
      "execution_count": 16,
      "metadata": {
        "colab": {
          "base_uri": "https://localhost:8080/"
        },
        "id": "JfGxvm756A9d",
        "outputId": "2ed77ab8-d11c-4565-dcb5-8fb6dcd26354"
      },
      "outputs": [
        {
          "output_type": "execute_result",
          "data": {
            "text/plain": [
              "Suburb               0\n",
              "Address              0\n",
              "Rooms                0\n",
              "Type                 0\n",
              "Price                6\n",
              "Method               0\n",
              "SellerG              0\n",
              "Date                 0\n",
              "Distance             1\n",
              "Postcode             1\n",
              "Bedroom2          8217\n",
              "Bathroom          8226\n",
              "Car               8728\n",
              "Landsize            99\n",
              "BuildingArea       123\n",
              "YearBuilt        19306\n",
              "CouncilArea          3\n",
              "Lattitude           88\n",
              "Longtitude        7976\n",
              "Regionname           3\n",
              "Propertycount        3\n",
              "dtype: int64"
            ]
          },
          "metadata": {},
          "execution_count": 16
        }
      ],
      "source": [
        "for col in suburb_col:\n",
        "\n",
        "    mask = (df['Suburb'] == col) & (df['Lattitude'].isna())\n",
        "    mean = df[(df['Suburb'] == col) & ~df['Lattitude'].isna()]['Lattitude'].mean()\n",
        "    df.loc[mask, 'Lattitude'] = mean\n",
        "\n",
        "df.isna().sum()"
      ]
    },
    {
      "cell_type": "code",
      "execution_count": 17,
      "metadata": {
        "colab": {
          "base_uri": "https://localhost:8080/"
        },
        "id": "kgg5oVys6IhF",
        "outputId": "99ceb9d2-23dd-4ce6-d063-03494753450e"
      },
      "outputs": [
        {
          "output_type": "execute_result",
          "data": {
            "text/plain": [
              "Suburb               0\n",
              "Address              0\n",
              "Rooms                0\n",
              "Type                 0\n",
              "Price                6\n",
              "Method               0\n",
              "SellerG              0\n",
              "Date                 0\n",
              "Distance             1\n",
              "Postcode             1\n",
              "Bedroom2          8217\n",
              "Bathroom          8226\n",
              "Car               8728\n",
              "Landsize            99\n",
              "BuildingArea       123\n",
              "YearBuilt        19306\n",
              "CouncilArea          3\n",
              "Lattitude           88\n",
              "Longtitude          88\n",
              "Regionname           3\n",
              "Propertycount        3\n",
              "dtype: int64"
            ]
          },
          "metadata": {},
          "execution_count": 17
        }
      ],
      "source": [
        "for col in suburb_col:\n",
        "\n",
        "    mask = (df['Suburb'] == col) & (df['Longtitude'].isna())\n",
        "    mean = df[(df['Suburb'] == col) & ~df['Longtitude'].isna()]['Longtitude'].mean()\n",
        "    df.loc[mask, 'Longtitude'] = mean\n",
        "\n",
        "df.isna().sum()"
      ]
    },
    {
      "cell_type": "code",
      "execution_count": 18,
      "metadata": {
        "colab": {
          "base_uri": "https://localhost:8080/"
        },
        "id": "Tqy-ebKw1Fkl",
        "outputId": "15dcf086-8d09-4f0d-8c2c-bed4ccac6455"
      },
      "outputs": [
        {
          "output_type": "execute_result",
          "data": {
            "text/plain": [
              "Suburb               0\n",
              "Address              0\n",
              "Rooms                0\n",
              "Type                 0\n",
              "Price                6\n",
              "Method               0\n",
              "SellerG              0\n",
              "Date                 0\n",
              "Distance             1\n",
              "Postcode             1\n",
              "Bedroom2            88\n",
              "Bathroom          8226\n",
              "Car               8728\n",
              "Landsize            99\n",
              "BuildingArea       123\n",
              "YearBuilt        19306\n",
              "CouncilArea          3\n",
              "Lattitude           88\n",
              "Longtitude          88\n",
              "Regionname           3\n",
              "Propertycount        3\n",
              "dtype: int64"
            ]
          },
          "metadata": {},
          "execution_count": 18
        }
      ],
      "source": [
        "for col in suburb_col:\n",
        "\n",
        "    mask = (df['Suburb'] == col) & (df['Bedroom2'].isna())\n",
        "    min = df[(df['Suburb'] == col) & ~df['Bedroom2'].isna()]['Bedroom2'].min()\n",
        "    df.loc[mask, 'Bedroom2'] = min\n",
        "\n",
        "df.isna().sum()"
      ]
    },
    {
      "cell_type": "code",
      "execution_count": 19,
      "metadata": {
        "colab": {
          "base_uri": "https://localhost:8080/"
        },
        "id": "ZvWg-rf-7rmV",
        "outputId": "ed75cef1-38f7-4263-9fa1-6d5b1d9bdb8a"
      },
      "outputs": [
        {
          "output_type": "execute_result",
          "data": {
            "text/plain": [
              "Suburb              0\n",
              "Address             0\n",
              "Rooms               0\n",
              "Type                0\n",
              "Price               6\n",
              "Method              0\n",
              "SellerG             0\n",
              "Date                0\n",
              "Distance            1\n",
              "Postcode            1\n",
              "Bedroom2           88\n",
              "Bathroom         8226\n",
              "Car              8728\n",
              "Landsize           99\n",
              "BuildingArea      123\n",
              "YearBuilt         122\n",
              "CouncilArea         3\n",
              "Lattitude          88\n",
              "Longtitude         88\n",
              "Regionname          3\n",
              "Propertycount       3\n",
              "dtype: int64"
            ]
          },
          "metadata": {},
          "execution_count": 19
        }
      ],
      "source": [
        "for col in suburb_col:\n",
        "\n",
        "    mask = (df['Suburb'] == col) & (df['YearBuilt'].isna())\n",
        "    min = df[(df['Suburb'] == col) & ~df['YearBuilt'].isna()]['YearBuilt'].min()\n",
        "    df.loc[mask, 'YearBuilt'] = min\n",
        "\n",
        "df.isna().sum()"
      ]
    },
    {
      "cell_type": "code",
      "execution_count": 20,
      "metadata": {
        "colab": {
          "base_uri": "https://localhost:8080/"
        },
        "id": "s3nZ1h9E2WYv",
        "outputId": "941176e6-f8c2-4454-fa4c-eaa86b60352e"
      },
      "outputs": [
        {
          "output_type": "execute_result",
          "data": {
            "text/plain": [
              "Suburb              0\n",
              "Address             0\n",
              "Rooms               0\n",
              "Type                0\n",
              "Price               6\n",
              "Method              0\n",
              "SellerG             0\n",
              "Date                0\n",
              "Distance            1\n",
              "Postcode            1\n",
              "Bedroom2           88\n",
              "Bathroom           88\n",
              "Car              8728\n",
              "Landsize           99\n",
              "BuildingArea      123\n",
              "YearBuilt         122\n",
              "CouncilArea         3\n",
              "Lattitude          88\n",
              "Longtitude         88\n",
              "Regionname          3\n",
              "Propertycount       3\n",
              "dtype: int64"
            ]
          },
          "metadata": {},
          "execution_count": 20
        }
      ],
      "source": [
        "for col in suburb_col:\n",
        "\n",
        "    mask = (df['Suburb'] == col) & (df['Bathroom'].isna())\n",
        "    min = df[(df['Suburb'] == col) & ~df['Bathroom'].isna()]['Bathroom'].min()\n",
        "    df.loc[mask, 'Bathroom'] = min\n",
        "\n",
        "df.isna().sum()"
      ]
    },
    {
      "cell_type": "code",
      "execution_count": 21,
      "metadata": {
        "colab": {
          "base_uri": "https://localhost:8080/"
        },
        "id": "iGBurw_6_pxn",
        "outputId": "e2113a26-51da-4af0-c37b-49d304eea926"
      },
      "outputs": [
        {
          "output_type": "execute_result",
          "data": {
            "text/plain": [
              "Suburb             0\n",
              "Address            0\n",
              "Rooms              0\n",
              "Type               0\n",
              "Price              6\n",
              "Method             0\n",
              "SellerG            0\n",
              "Date               0\n",
              "Distance           1\n",
              "Postcode           1\n",
              "Bedroom2          88\n",
              "Bathroom          88\n",
              "Car               89\n",
              "Landsize          99\n",
              "BuildingArea     123\n",
              "YearBuilt        122\n",
              "CouncilArea        3\n",
              "Lattitude         88\n",
              "Longtitude        88\n",
              "Regionname         3\n",
              "Propertycount      3\n",
              "dtype: int64"
            ]
          },
          "metadata": {},
          "execution_count": 21
        }
      ],
      "source": [
        "for col in suburb_col:\n",
        "\n",
        "    mask = (df['Suburb'] == col) & (df['Car'].isna())\n",
        "    min = df[(df['Suburb'] == col) & ~df['Car'].isna()]['Car'].min()\n",
        "    df.loc[mask, 'Car'] = min\n",
        "\n",
        "df.isna().sum()"
      ]
    },
    {
      "cell_type": "code",
      "execution_count": 22,
      "metadata": {
        "colab": {
          "base_uri": "https://localhost:8080/",
          "height": 457
        },
        "id": "vLpUtcwzstUd",
        "outputId": "e6c3dce1-51f1-4147-c009-de3354f31252"
      },
      "outputs": [
        {
          "output_type": "execute_result",
          "data": {
            "text/plain": [
              "                 count          mean            std          min            25%           50%           75%           max\n",
              "Rooms          34856.0  3.031013e+00       0.969947      1.00000       2.000000       3.00000  4.000000e+00  1.600000e+01\n",
              "Price          34850.0  1.076458e+06  601250.440507  85000.00000  667000.000000  926926.15082  1.325000e+06  1.120000e+07\n",
              "Distance       34855.0  1.118481e+01       6.788952      0.00000       6.400000      10.30000  1.400000e+01  4.810000e+01\n",
              "Postcode       34855.0  3.116062e+03     109.025437   3000.00000    3051.000000    3103.00000  3.156000e+03  3.978000e+03\n",
              "Bedroom2       34768.0  2.653503e+00       1.214489      0.00000       2.000000       3.00000  3.000000e+00  3.000000e+01\n",
              "Bathroom       34768.0  1.425276e+00       0.758910      0.00000       1.000000       1.00000  2.000000e+00  1.200000e+01\n",
              "Car            34767.0  1.335203e+00       1.127182      0.00000       0.000000       1.00000  2.000000e+00  2.600000e+01\n",
              "Landsize       34757.0  5.918291e+02    2823.310045      0.00000     325.636364     530.75873  6.533333e+02  4.330140e+05\n",
              "BuildingArea   34733.0  1.600897e+02     289.290896      0.00000     120.000000     146.70160  1.860912e+02  4.451500e+04\n",
              "YearBuilt      34734.0  1.931990e+03      67.830034   1196.00000    1890.000000    1940.00000  1.970000e+03  2.106000e+03\n",
              "Lattitude      34768.0 -3.781130e+01       0.089730    -38.19043     -37.864000     -37.80880 -3.775450e+01 -3.739020e+01\n",
              "Longtitude     34768.0  1.450029e+02       0.117699    144.42379     144.936570     145.00940  1.450715e+02  1.455264e+02\n",
              "Propertycount  34853.0  7.572963e+03    4428.131940     83.00000    4385.000000    6763.00000  1.041200e+04  2.165000e+04"
            ],
            "text/html": [
              "\n",
              "  <div id=\"df-29f9fd16-9fe8-4abb-b7c1-581b92f3a93d\" class=\"colab-df-container\">\n",
              "    <div>\n",
              "<style scoped>\n",
              "    .dataframe tbody tr th:only-of-type {\n",
              "        vertical-align: middle;\n",
              "    }\n",
              "\n",
              "    .dataframe tbody tr th {\n",
              "        vertical-align: top;\n",
              "    }\n",
              "\n",
              "    .dataframe thead th {\n",
              "        text-align: right;\n",
              "    }\n",
              "</style>\n",
              "<table border=\"1\" class=\"dataframe\">\n",
              "  <thead>\n",
              "    <tr style=\"text-align: right;\">\n",
              "      <th></th>\n",
              "      <th>count</th>\n",
              "      <th>mean</th>\n",
              "      <th>std</th>\n",
              "      <th>min</th>\n",
              "      <th>25%</th>\n",
              "      <th>50%</th>\n",
              "      <th>75%</th>\n",
              "      <th>max</th>\n",
              "    </tr>\n",
              "  </thead>\n",
              "  <tbody>\n",
              "    <tr>\n",
              "      <th>Rooms</th>\n",
              "      <td>34856.0</td>\n",
              "      <td>3.031013e+00</td>\n",
              "      <td>0.969947</td>\n",
              "      <td>1.00000</td>\n",
              "      <td>2.000000</td>\n",
              "      <td>3.00000</td>\n",
              "      <td>4.000000e+00</td>\n",
              "      <td>1.600000e+01</td>\n",
              "    </tr>\n",
              "    <tr>\n",
              "      <th>Price</th>\n",
              "      <td>34850.0</td>\n",
              "      <td>1.076458e+06</td>\n",
              "      <td>601250.440507</td>\n",
              "      <td>85000.00000</td>\n",
              "      <td>667000.000000</td>\n",
              "      <td>926926.15082</td>\n",
              "      <td>1.325000e+06</td>\n",
              "      <td>1.120000e+07</td>\n",
              "    </tr>\n",
              "    <tr>\n",
              "      <th>Distance</th>\n",
              "      <td>34855.0</td>\n",
              "      <td>1.118481e+01</td>\n",
              "      <td>6.788952</td>\n",
              "      <td>0.00000</td>\n",
              "      <td>6.400000</td>\n",
              "      <td>10.30000</td>\n",
              "      <td>1.400000e+01</td>\n",
              "      <td>4.810000e+01</td>\n",
              "    </tr>\n",
              "    <tr>\n",
              "      <th>Postcode</th>\n",
              "      <td>34855.0</td>\n",
              "      <td>3.116062e+03</td>\n",
              "      <td>109.025437</td>\n",
              "      <td>3000.00000</td>\n",
              "      <td>3051.000000</td>\n",
              "      <td>3103.00000</td>\n",
              "      <td>3.156000e+03</td>\n",
              "      <td>3.978000e+03</td>\n",
              "    </tr>\n",
              "    <tr>\n",
              "      <th>Bedroom2</th>\n",
              "      <td>34768.0</td>\n",
              "      <td>2.653503e+00</td>\n",
              "      <td>1.214489</td>\n",
              "      <td>0.00000</td>\n",
              "      <td>2.000000</td>\n",
              "      <td>3.00000</td>\n",
              "      <td>3.000000e+00</td>\n",
              "      <td>3.000000e+01</td>\n",
              "    </tr>\n",
              "    <tr>\n",
              "      <th>Bathroom</th>\n",
              "      <td>34768.0</td>\n",
              "      <td>1.425276e+00</td>\n",
              "      <td>0.758910</td>\n",
              "      <td>0.00000</td>\n",
              "      <td>1.000000</td>\n",
              "      <td>1.00000</td>\n",
              "      <td>2.000000e+00</td>\n",
              "      <td>1.200000e+01</td>\n",
              "    </tr>\n",
              "    <tr>\n",
              "      <th>Car</th>\n",
              "      <td>34767.0</td>\n",
              "      <td>1.335203e+00</td>\n",
              "      <td>1.127182</td>\n",
              "      <td>0.00000</td>\n",
              "      <td>0.000000</td>\n",
              "      <td>1.00000</td>\n",
              "      <td>2.000000e+00</td>\n",
              "      <td>2.600000e+01</td>\n",
              "    </tr>\n",
              "    <tr>\n",
              "      <th>Landsize</th>\n",
              "      <td>34757.0</td>\n",
              "      <td>5.918291e+02</td>\n",
              "      <td>2823.310045</td>\n",
              "      <td>0.00000</td>\n",
              "      <td>325.636364</td>\n",
              "      <td>530.75873</td>\n",
              "      <td>6.533333e+02</td>\n",
              "      <td>4.330140e+05</td>\n",
              "    </tr>\n",
              "    <tr>\n",
              "      <th>BuildingArea</th>\n",
              "      <td>34733.0</td>\n",
              "      <td>1.600897e+02</td>\n",
              "      <td>289.290896</td>\n",
              "      <td>0.00000</td>\n",
              "      <td>120.000000</td>\n",
              "      <td>146.70160</td>\n",
              "      <td>1.860912e+02</td>\n",
              "      <td>4.451500e+04</td>\n",
              "    </tr>\n",
              "    <tr>\n",
              "      <th>YearBuilt</th>\n",
              "      <td>34734.0</td>\n",
              "      <td>1.931990e+03</td>\n",
              "      <td>67.830034</td>\n",
              "      <td>1196.00000</td>\n",
              "      <td>1890.000000</td>\n",
              "      <td>1940.00000</td>\n",
              "      <td>1.970000e+03</td>\n",
              "      <td>2.106000e+03</td>\n",
              "    </tr>\n",
              "    <tr>\n",
              "      <th>Lattitude</th>\n",
              "      <td>34768.0</td>\n",
              "      <td>-3.781130e+01</td>\n",
              "      <td>0.089730</td>\n",
              "      <td>-38.19043</td>\n",
              "      <td>-37.864000</td>\n",
              "      <td>-37.80880</td>\n",
              "      <td>-3.775450e+01</td>\n",
              "      <td>-3.739020e+01</td>\n",
              "    </tr>\n",
              "    <tr>\n",
              "      <th>Longtitude</th>\n",
              "      <td>34768.0</td>\n",
              "      <td>1.450029e+02</td>\n",
              "      <td>0.117699</td>\n",
              "      <td>144.42379</td>\n",
              "      <td>144.936570</td>\n",
              "      <td>145.00940</td>\n",
              "      <td>1.450715e+02</td>\n",
              "      <td>1.455264e+02</td>\n",
              "    </tr>\n",
              "    <tr>\n",
              "      <th>Propertycount</th>\n",
              "      <td>34853.0</td>\n",
              "      <td>7.572963e+03</td>\n",
              "      <td>4428.131940</td>\n",
              "      <td>83.00000</td>\n",
              "      <td>4385.000000</td>\n",
              "      <td>6763.00000</td>\n",
              "      <td>1.041200e+04</td>\n",
              "      <td>2.165000e+04</td>\n",
              "    </tr>\n",
              "  </tbody>\n",
              "</table>\n",
              "</div>\n",
              "    <div class=\"colab-df-buttons\">\n",
              "\n",
              "  <div class=\"colab-df-container\">\n",
              "    <button class=\"colab-df-convert\" onclick=\"convertToInteractive('df-29f9fd16-9fe8-4abb-b7c1-581b92f3a93d')\"\n",
              "            title=\"Convert this dataframe to an interactive table.\"\n",
              "            style=\"display:none;\">\n",
              "\n",
              "  <svg xmlns=\"http://www.w3.org/2000/svg\" height=\"24px\" viewBox=\"0 -960 960 960\">\n",
              "    <path d=\"M120-120v-720h720v720H120Zm60-500h600v-160H180v160Zm220 220h160v-160H400v160Zm0 220h160v-160H400v160ZM180-400h160v-160H180v160Zm440 0h160v-160H620v160ZM180-180h160v-160H180v160Zm440 0h160v-160H620v160Z\"/>\n",
              "  </svg>\n",
              "    </button>\n",
              "\n",
              "  <style>\n",
              "    .colab-df-container {\n",
              "      display:flex;\n",
              "      gap: 12px;\n",
              "    }\n",
              "\n",
              "    .colab-df-convert {\n",
              "      background-color: #E8F0FE;\n",
              "      border: none;\n",
              "      border-radius: 50%;\n",
              "      cursor: pointer;\n",
              "      display: none;\n",
              "      fill: #1967D2;\n",
              "      height: 32px;\n",
              "      padding: 0 0 0 0;\n",
              "      width: 32px;\n",
              "    }\n",
              "\n",
              "    .colab-df-convert:hover {\n",
              "      background-color: #E2EBFA;\n",
              "      box-shadow: 0px 1px 2px rgba(60, 64, 67, 0.3), 0px 1px 3px 1px rgba(60, 64, 67, 0.15);\n",
              "      fill: #174EA6;\n",
              "    }\n",
              "\n",
              "    .colab-df-buttons div {\n",
              "      margin-bottom: 4px;\n",
              "    }\n",
              "\n",
              "    [theme=dark] .colab-df-convert {\n",
              "      background-color: #3B4455;\n",
              "      fill: #D2E3FC;\n",
              "    }\n",
              "\n",
              "    [theme=dark] .colab-df-convert:hover {\n",
              "      background-color: #434B5C;\n",
              "      box-shadow: 0px 1px 3px 1px rgba(0, 0, 0, 0.15);\n",
              "      filter: drop-shadow(0px 1px 2px rgba(0, 0, 0, 0.3));\n",
              "      fill: #FFFFFF;\n",
              "    }\n",
              "  </style>\n",
              "\n",
              "    <script>\n",
              "      const buttonEl =\n",
              "        document.querySelector('#df-29f9fd16-9fe8-4abb-b7c1-581b92f3a93d button.colab-df-convert');\n",
              "      buttonEl.style.display =\n",
              "        google.colab.kernel.accessAllowed ? 'block' : 'none';\n",
              "\n",
              "      async function convertToInteractive(key) {\n",
              "        const element = document.querySelector('#df-29f9fd16-9fe8-4abb-b7c1-581b92f3a93d');\n",
              "        const dataTable =\n",
              "          await google.colab.kernel.invokeFunction('convertToInteractive',\n",
              "                                                    [key], {});\n",
              "        if (!dataTable) return;\n",
              "\n",
              "        const docLinkHtml = 'Like what you see? Visit the ' +\n",
              "          '<a target=\"_blank\" href=https://colab.research.google.com/notebooks/data_table.ipynb>data table notebook</a>'\n",
              "          + ' to learn more about interactive tables.';\n",
              "        element.innerHTML = '';\n",
              "        dataTable['output_type'] = 'display_data';\n",
              "        await google.colab.output.renderOutput(dataTable, element);\n",
              "        const docLink = document.createElement('div');\n",
              "        docLink.innerHTML = docLinkHtml;\n",
              "        element.appendChild(docLink);\n",
              "      }\n",
              "    </script>\n",
              "  </div>\n",
              "\n",
              "\n",
              "<div id=\"df-8690b3eb-c747-47f8-9d2b-a8a44cc6be1f\">\n",
              "  <button class=\"colab-df-quickchart\" onclick=\"quickchart('df-8690b3eb-c747-47f8-9d2b-a8a44cc6be1f')\"\n",
              "            title=\"Suggest charts.\"\n",
              "            style=\"display:none;\">\n",
              "\n",
              "<svg xmlns=\"http://www.w3.org/2000/svg\" height=\"24px\"viewBox=\"0 0 24 24\"\n",
              "     width=\"24px\">\n",
              "    <g>\n",
              "        <path d=\"M19 3H5c-1.1 0-2 .9-2 2v14c0 1.1.9 2 2 2h14c1.1 0 2-.9 2-2V5c0-1.1-.9-2-2-2zM9 17H7v-7h2v7zm4 0h-2V7h2v10zm4 0h-2v-4h2v4z\"/>\n",
              "    </g>\n",
              "</svg>\n",
              "  </button>\n",
              "\n",
              "<style>\n",
              "  .colab-df-quickchart {\n",
              "      --bg-color: #E8F0FE;\n",
              "      --fill-color: #1967D2;\n",
              "      --hover-bg-color: #E2EBFA;\n",
              "      --hover-fill-color: #174EA6;\n",
              "      --disabled-fill-color: #AAA;\n",
              "      --disabled-bg-color: #DDD;\n",
              "  }\n",
              "\n",
              "  [theme=dark] .colab-df-quickchart {\n",
              "      --bg-color: #3B4455;\n",
              "      --fill-color: #D2E3FC;\n",
              "      --hover-bg-color: #434B5C;\n",
              "      --hover-fill-color: #FFFFFF;\n",
              "      --disabled-bg-color: #3B4455;\n",
              "      --disabled-fill-color: #666;\n",
              "  }\n",
              "\n",
              "  .colab-df-quickchart {\n",
              "    background-color: var(--bg-color);\n",
              "    border: none;\n",
              "    border-radius: 50%;\n",
              "    cursor: pointer;\n",
              "    display: none;\n",
              "    fill: var(--fill-color);\n",
              "    height: 32px;\n",
              "    padding: 0;\n",
              "    width: 32px;\n",
              "  }\n",
              "\n",
              "  .colab-df-quickchart:hover {\n",
              "    background-color: var(--hover-bg-color);\n",
              "    box-shadow: 0 1px 2px rgba(60, 64, 67, 0.3), 0 1px 3px 1px rgba(60, 64, 67, 0.15);\n",
              "    fill: var(--button-hover-fill-color);\n",
              "  }\n",
              "\n",
              "  .colab-df-quickchart-complete:disabled,\n",
              "  .colab-df-quickchart-complete:disabled:hover {\n",
              "    background-color: var(--disabled-bg-color);\n",
              "    fill: var(--disabled-fill-color);\n",
              "    box-shadow: none;\n",
              "  }\n",
              "\n",
              "  .colab-df-spinner {\n",
              "    border: 2px solid var(--fill-color);\n",
              "    border-color: transparent;\n",
              "    border-bottom-color: var(--fill-color);\n",
              "    animation:\n",
              "      spin 1s steps(1) infinite;\n",
              "  }\n",
              "\n",
              "  @keyframes spin {\n",
              "    0% {\n",
              "      border-color: transparent;\n",
              "      border-bottom-color: var(--fill-color);\n",
              "      border-left-color: var(--fill-color);\n",
              "    }\n",
              "    20% {\n",
              "      border-color: transparent;\n",
              "      border-left-color: var(--fill-color);\n",
              "      border-top-color: var(--fill-color);\n",
              "    }\n",
              "    30% {\n",
              "      border-color: transparent;\n",
              "      border-left-color: var(--fill-color);\n",
              "      border-top-color: var(--fill-color);\n",
              "      border-right-color: var(--fill-color);\n",
              "    }\n",
              "    40% {\n",
              "      border-color: transparent;\n",
              "      border-right-color: var(--fill-color);\n",
              "      border-top-color: var(--fill-color);\n",
              "    }\n",
              "    60% {\n",
              "      border-color: transparent;\n",
              "      border-right-color: var(--fill-color);\n",
              "    }\n",
              "    80% {\n",
              "      border-color: transparent;\n",
              "      border-right-color: var(--fill-color);\n",
              "      border-bottom-color: var(--fill-color);\n",
              "    }\n",
              "    90% {\n",
              "      border-color: transparent;\n",
              "      border-bottom-color: var(--fill-color);\n",
              "    }\n",
              "  }\n",
              "</style>\n",
              "\n",
              "  <script>\n",
              "    async function quickchart(key) {\n",
              "      const quickchartButtonEl =\n",
              "        document.querySelector('#' + key + ' button');\n",
              "      quickchartButtonEl.disabled = true;  // To prevent multiple clicks.\n",
              "      quickchartButtonEl.classList.add('colab-df-spinner');\n",
              "      try {\n",
              "        const charts = await google.colab.kernel.invokeFunction(\n",
              "            'suggestCharts', [key], {});\n",
              "      } catch (error) {\n",
              "        console.error('Error during call to suggestCharts:', error);\n",
              "      }\n",
              "      quickchartButtonEl.classList.remove('colab-df-spinner');\n",
              "      quickchartButtonEl.classList.add('colab-df-quickchart-complete');\n",
              "    }\n",
              "    (() => {\n",
              "      let quickchartButtonEl =\n",
              "        document.querySelector('#df-8690b3eb-c747-47f8-9d2b-a8a44cc6be1f button');\n",
              "      quickchartButtonEl.style.display =\n",
              "        google.colab.kernel.accessAllowed ? 'block' : 'none';\n",
              "    })();\n",
              "  </script>\n",
              "</div>\n",
              "    </div>\n",
              "  </div>\n"
            ]
          },
          "metadata": {},
          "execution_count": 22
        }
      ],
      "source": [
        "df.describe().T"
      ]
    },
    {
      "cell_type": "markdown",
      "metadata": {
        "id": "ew3Rgz099XNP"
      },
      "source": [
        "##Outlier Detection"
      ]
    },
    {
      "cell_type": "code",
      "execution_count": 23,
      "metadata": {
        "colab": {
          "base_uri": "https://localhost:8080/",
          "height": 893
        },
        "id": "UMkD5vyKxewy",
        "outputId": "65c8c52f-3ec0-4654-aa0a-6c3757487eb7"
      },
      "outputs": [
        {
          "output_type": "stream",
          "name": "stdout",
          "text": [
            "13\n"
          ]
        },
        {
          "output_type": "execute_result",
          "data": {
            "text/plain": [
              "<Axes: xlabel='Rooms'>"
            ]
          },
          "metadata": {},
          "execution_count": 23
        },
        {
          "output_type": "display_data",
          "data": {
            "text/plain": [
              "<Figure size 1000x1000 with 1 Axes>"
            ],
            "image/png": "[encoded data removed]"
          },
          "metadata": {}
        }
      ],
      "source": [
        "outlier_col=df.select_dtypes(['int','float']).columns\n",
        "print(len(outlier_col))\n",
        "sns.boxplot(df,x=outlier_col[0])"
      ]
    },
    {
      "cell_type": "code",
      "execution_count": 24,
      "metadata": {
        "colab": {
          "base_uri": "https://localhost:8080/",
          "height": 875
        },
        "id": "G5JrD82ExrsE",
        "outputId": "e8282b0c-4aac-4f87-995f-84b6f69ead67"
      },
      "outputs": [
        {
          "output_type": "execute_result",
          "data": {
            "text/plain": [
              "<Axes: xlabel='Price'>"
            ]
          },
          "metadata": {},
          "execution_count": 24
        },
        {
          "output_type": "display_data",
          "data": {
            "text/plain": [
              "<Figure size 1000x1000 with 1 Axes>"
            ],
            "image/png": "[encoded data removed]"
          },
          "metadata": {}
        }
      ],
      "source": [
        "sns.boxplot(df,x=outlier_col[1])"
      ]
    },
    {
      "cell_type": "code",
      "execution_count": 25,
      "metadata": {
        "colab": {
          "base_uri": "https://localhost:8080/",
          "height": 875
        },
        "id": "JR5kukcFxwL7",
        "outputId": "28d00bb5-5f6f-487a-9fd9-9c661186d70b"
      },
      "outputs": [
        {
          "output_type": "execute_result",
          "data": {
            "text/plain": [
              "<Axes: xlabel='Distance'>"
            ]
          },
          "metadata": {},
          "execution_count": 25
        },
        {
          "output_type": "display_data",
          "data": {
            "text/plain": [
              "<Figure size 1000x1000 with 1 Axes>"
            ],
            "image/png": "[encoded data removed]"
          },
          "metadata": {}
        }
      ],
      "source": [
        "sns.boxplot(df,x=outlier_col[2])"
      ]
    },
    {
      "cell_type": "code",
      "execution_count": 26,
      "metadata": {
        "colab": {
          "base_uri": "https://localhost:8080/",
          "height": 875
        },
        "id": "-eC4DxRCxxmU",
        "outputId": "1b0f77a5-21fd-47a7-8eef-2d8f4e5a444e"
      },
      "outputs": [
        {
          "output_type": "execute_result",
          "data": {
            "text/plain": [
              "<Axes: xlabel='Postcode'>"
            ]
          },
          "metadata": {},
          "execution_count": 26
        },
        {
          "output_type": "display_data",
          "data": {
            "text/plain": [
              "<Figure size 1000x1000 with 1 Axes>"
            ],
            "image/png": "[encoded data removed]"
          },
          "metadata": {}
        }
      ],
      "source": [
        "sns.boxplot(df,x=outlier_col[3])"
      ]
    },
    {
      "cell_type": "code",
      "execution_count": 27,
      "metadata": {
        "colab": {
          "base_uri": "https://localhost:8080/",
          "height": 875
        },
        "id": "PH9uXburxywd",
        "outputId": "c6ede251-226e-4a14-820e-f72803e95a2b"
      },
      "outputs": [
        {
          "output_type": "execute_result",
          "data": {
            "text/plain": [
              "<Axes: xlabel='Bedroom2'>"
            ]
          },
          "metadata": {},
          "execution_count": 27
        },
        {
          "output_type": "display_data",
          "data": {
            "text/plain": [
              "<Figure size 1000x1000 with 1 Axes>"
            ],
            "image/png": "[encoded data removed]"
          },
          "metadata": {}
        }
      ],
      "source": [
        "sns.boxplot(df,x=outlier_col[4])"
      ]
    },
    {
      "cell_type": "code",
      "execution_count": 28,
      "metadata": {
        "colab": {
          "base_uri": "https://localhost:8080/",
          "height": 875
        },
        "id": "0cks_UUcx0A0",
        "outputId": "cec98933-251b-4557-a7cb-d09a2aee22dd"
      },
      "outputs": [
        {
          "output_type": "execute_result",
          "data": {
            "text/plain": [
              "<Axes: xlabel='Bathroom'>"
            ]
          },
          "metadata": {},
          "execution_count": 28
        },
        {
          "output_type": "display_data",
          "data": {
            "text/plain": [
              "<Figure size 1000x1000 with 1 Axes>"
            ],
            "image/png": "[encoded data removed]"
          },
          "metadata": {}
        }
      ],
      "source": [
        "sns.boxplot(df,x=outlier_col[5])"
      ]
    },
    {
      "cell_type": "code",
      "execution_count": 29,
      "metadata": {
        "colab": {
          "base_uri": "https://localhost:8080/",
          "height": 875
        },
        "id": "fBkgkLVlx1ke",
        "outputId": "3dd3d5d9-40d8-446f-d6b1-72e715630b20"
      },
      "outputs": [
        {
          "output_type": "execute_result",
          "data": {
            "text/plain": [
              "<Axes: xlabel='Car'>"
            ]
          },
          "metadata": {},
          "execution_count": 29
        },
        {
          "output_type": "display_data",
          "data": {
            "text/plain": [
              "<Figure size 1000x1000 with 1 Axes>"
            ],
            "image/png": "[encoded data removed]"
          },
          "metadata": {}
        }
      ],
      "source": [
        "sns.boxplot(df,x=outlier_col[6])"
      ]
    },
    {
      "cell_type": "code",
      "execution_count": 30,
      "metadata": {
        "colab": {
          "base_uri": "https://localhost:8080/",
          "height": 875
        },
        "id": "NN6zw_B8x3MF",
        "outputId": "674401a5-b422-433a-ce87-e43dc74f3304"
      },
      "outputs": [
        {
          "output_type": "execute_result",
          "data": {
            "text/plain": [
              "<Axes: xlabel='Landsize'>"
            ]
          },
          "metadata": {},
          "execution_count": 30
        },
        {
          "output_type": "display_data",
          "data": {
            "text/plain": [
              "<Figure size 1000x1000 with 1 Axes>"
            ],
            "image/png": "[encoded data removed]"
          },
          "metadata": {}
        }
      ],
      "source": [
        "sns.boxplot(df,x=outlier_col[7])"
      ]
    },
    {
      "cell_type": "code",
      "execution_count": 31,
      "metadata": {
        "colab": {
          "base_uri": "https://localhost:8080/",
          "height": 875
        },
        "id": "JpzdC975x54l",
        "outputId": "21318563-ad82-4082-949d-83849f05b820"
      },
      "outputs": [
        {
          "output_type": "execute_result",
          "data": {
            "text/plain": [
              "<Axes: xlabel='BuildingArea'>"
            ]
          },
          "metadata": {},
          "execution_count": 31
        },
        {
          "output_type": "display_data",
          "data": {
            "text/plain": [
              "<Figure size 1000x1000 with 1 Axes>"
            ],
            "image/png": "[encoded data removed]"
          },
          "metadata": {}
        }
      ],
      "source": [
        "sns.boxplot(df,x=outlier_col[8])"
      ]
    },
    {
      "cell_type": "code",
      "execution_count": 32,
      "metadata": {
        "colab": {
          "base_uri": "https://localhost:8080/",
          "height": 875
        },
        "id": "5RrZ38LVx7pH",
        "outputId": "05a229d3-7984-44f2-d1d8-4d77ac3c0524"
      },
      "outputs": [
        {
          "output_type": "execute_result",
          "data": {
            "text/plain": [
              "<Axes: xlabel='YearBuilt'>"
            ]
          },
          "metadata": {},
          "execution_count": 32
        },
        {
          "output_type": "display_data",
          "data": {
            "text/plain": [
              "<Figure size 1000x1000 with 1 Axes>"
            ],
            "image/png": "[encoded data removed]"
          },
          "metadata": {}
        }
      ],
      "source": [
        "sns.boxplot(df,x=outlier_col[9])"
      ]
    },
    {
      "cell_type": "code",
      "execution_count": 33,
      "metadata": {
        "colab": {
          "base_uri": "https://localhost:8080/",
          "height": 875
        },
        "id": "AOEQm6PKx9RO",
        "outputId": "9d76efb3-a53a-40ea-be88-4a435baf9a69"
      },
      "outputs": [
        {
          "output_type": "execute_result",
          "data": {
            "text/plain": [
              "<Axes: xlabel='Lattitude'>"
            ]
          },
          "metadata": {},
          "execution_count": 33
        },
        {
          "output_type": "display_data",
          "data": {
            "text/plain": [
              "<Figure size 1000x1000 with 1 Axes>"
            ],
            "image/png": "[encoded data removed]"
          },
          "metadata": {}
        }
      ],
      "source": [
        "sns.boxplot(df,x=outlier_col[10])"
      ]
    },
    {
      "cell_type": "code",
      "execution_count": 34,
      "metadata": {
        "colab": {
          "base_uri": "https://localhost:8080/",
          "height": 875
        },
        "id": "mokaPUMux-Su",
        "outputId": "26657e5f-e40b-4641-b539-4a63a0c927c8"
      },
      "outputs": [
        {
          "output_type": "execute_result",
          "data": {
            "text/plain": [
              "<Axes: xlabel='Longtitude'>"
            ]
          },
          "metadata": {},
          "execution_count": 34
        },
        {
          "output_type": "display_data",
          "data": {
            "text/plain": [
              "<Figure size 1000x1000 with 1 Axes>"
            ],
            "image/png": "[encoded data removed]"
          },
          "metadata": {}
        }
      ],
      "source": [
        "sns.boxplot(df,x=outlier_col[11])"
      ]
    },
    {
      "cell_type": "code",
      "execution_count": 35,
      "metadata": {
        "colab": {
          "base_uri": "https://localhost:8080/",
          "height": 875
        },
        "id": "O2cfqLfIx_VG",
        "outputId": "9fcafd9b-782f-4314-9a71-75b802dbcf2a"
      },
      "outputs": [
        {
          "output_type": "execute_result",
          "data": {
            "text/plain": [
              "<Axes: xlabel='Propertycount'>"
            ]
          },
          "metadata": {},
          "execution_count": 35
        },
        {
          "output_type": "display_data",
          "data": {
            "text/plain": [
              "<Figure size 1000x1000 with 1 Axes>"
            ],
            "image/png": "[encoded data removed]"
          },
          "metadata": {}
        }
      ],
      "source": [
        "sns.boxplot(df,x=outlier_col[12])"
      ]
    },
    {
      "cell_type": "code",
      "execution_count": 36,
      "metadata": {
        "id": "LlXdziDdqw12"
      },
      "outputs": [],
      "source": [
        "#Outlier Detection\n",
        "Threshold = 3\n",
        "\n",
        "for col in df.select_dtypes(['int', 'float']):\n",
        "    Z = np.abs((df[col] - df[col].mean()) / df[col].std())\n",
        "    df[col] = np.where(Z > Threshold, np.nan, df[col])\n"
      ]
    },
    {
      "cell_type": "code",
      "execution_count": 37,
      "metadata": {
        "colab": {
          "base_uri": "https://localhost:8080/"
        },
        "id": "GMtayhEhmbgt",
        "outputId": "f2e12333-b448-4d88-c97e-c71a189a5236"
      },
      "outputs": [
        {
          "output_type": "stream",
          "name": "stdout",
          "text": [
            "Outlier Data Rooms :0\n",
            "Outlier Data Price :1575\n",
            "Outlier Data Distance :1467\n",
            "Outlier Data Postcode :0\n",
            "Outlier Data Bedroom2 :7185\n",
            "Outlier Data Bathroom :1091\n",
            "Outlier Data Car :1716\n",
            "Outlier Data Landsize :535\n",
            "Outlier Data BuildingArea :892\n",
            "Outlier Data YearBuilt :113\n",
            "Outlier Data Lattitude :589\n",
            "Outlier Data Longtitude :1006\n",
            "Outlier Data Propertycount :993\n"
          ]
        }
      ],
      "source": [
        "for col in outlier_col:\n",
        "  QIR=df[col].quantile(0.75)-df[col].quantile(0.25)\n",
        "  lower=df[col].mean()-1.5*QIR\n",
        "  upper=df[col].mean()+1.5*QIR\n",
        "  print(f\"Outlier Data {col} :{len(df[(df[col]>upper) | (df[col]<lower)])}\")\n",
        "  df=df[(df[col]<=upper) & (df[col]>=lower)]\n",
        "  df[col].max(),upper"
      ]
    },
    {
      "cell_type": "code",
      "execution_count": 38,
      "metadata": {
        "colab": {
          "base_uri": "https://localhost:8080/",
          "height": 875
        },
        "id": "sEvqF96Wu_le",
        "outputId": "652b81d2-92f1-4205-9a49-1ef3dfffddae"
      },
      "outputs": [
        {
          "output_type": "execute_result",
          "data": {
            "text/plain": [
              "<Axes: xlabel='Rooms'>"
            ]
          },
          "metadata": {},
          "execution_count": 38
        },
        {
          "output_type": "display_data",
          "data": {
            "text/plain": [
              "<Figure size 1000x1000 with 1 Axes>"
            ],
            "image/png": "[encoded data removed]"
          },
          "metadata": {}
        }
      ],
      "source": [
        "sns.boxplot(df,x=outlier_col[0])"
      ]
    },
    {
      "cell_type": "code",
      "execution_count": 39,
      "metadata": {
        "colab": {
          "base_uri": "https://localhost:8080/",
          "height": 875
        },
        "id": "UvZhK5zHvqpt",
        "outputId": "4ddd7111-02af-4ec6-d932-6b0e44c1cd59"
      },
      "outputs": [
        {
          "output_type": "execute_result",
          "data": {
            "text/plain": [
              "<Axes: xlabel='Price'>"
            ]
          },
          "metadata": {},
          "execution_count": 39
        },
        {
          "output_type": "display_data",
          "data": {
            "text/plain": [
              "<Figure size 1000x1000 with 1 Axes>"
            ],
            "image/png": "[encoded data removed]"
          },
          "metadata": {}
        }
      ],
      "source": [
        "sns.boxplot(df,x=outlier_col[1])"
      ]
    },
    {
      "cell_type": "code",
      "execution_count": 40,
      "metadata": {
        "colab": {
          "base_uri": "https://localhost:8080/",
          "height": 875
        },
        "id": "ZI4d5fYJvuAF",
        "outputId": "bcb0e737-6187-4144-a7b2-bbe5046bbb0a"
      },
      "outputs": [
        {
          "output_type": "execute_result",
          "data": {
            "text/plain": [
              "<Axes: xlabel='Distance'>"
            ]
          },
          "metadata": {},
          "execution_count": 40
        },
        {
          "output_type": "display_data",
          "data": {
            "text/plain": [
              "<Figure size 1000x1000 with 1 Axes>"
            ],
            "image/png": "[encoded data removed]"
          },
          "metadata": {}
        }
      ],
      "source": [
        "sns.boxplot(df,x=outlier_col[2])"
      ]
    },
    {
      "cell_type": "code",
      "execution_count": 41,
      "metadata": {
        "colab": {
          "base_uri": "https://localhost:8080/",
          "height": 875
        },
        "id": "8IsCX4dOvv4s",
        "outputId": "6fcfdbfd-b46f-4461-c60d-336ecd0ec7c2"
      },
      "outputs": [
        {
          "output_type": "execute_result",
          "data": {
            "text/plain": [
              "<Axes: xlabel='Postcode'>"
            ]
          },
          "metadata": {},
          "execution_count": 41
        },
        {
          "output_type": "display_data",
          "data": {
            "text/plain": [
              "<Figure size 1000x1000 with 1 Axes>"
            ],
            "image/png": "[encoded data removed]"
          },
          "metadata": {}
        }
      ],
      "source": [
        "sns.boxplot(df,x=outlier_col[3])"
      ]
    },
    {
      "cell_type": "code",
      "execution_count": 42,
      "metadata": {
        "colab": {
          "base_uri": "https://localhost:8080/",
          "height": 875
        },
        "id": "FU1IDF8-vxk2",
        "outputId": "090eee31-d8c7-49a3-c79c-7bd7738716be"
      },
      "outputs": [
        {
          "output_type": "execute_result",
          "data": {
            "text/plain": [
              "<Axes: xlabel='Bedroom2'>"
            ]
          },
          "metadata": {},
          "execution_count": 42
        },
        {
          "output_type": "display_data",
          "data": {
            "text/plain": [
              "<Figure size 1000x1000 with 1 Axes>"
            ],
            "image/png": "[encoded data removed]"
          },
          "metadata": {}
        }
      ],
      "source": [
        "sns.boxplot(df,x=outlier_col[4])"
      ]
    },
    {
      "cell_type": "code",
      "execution_count": 43,
      "metadata": {
        "colab": {
          "base_uri": "https://localhost:8080/",
          "height": 875
        },
        "id": "6ek5DLP6vz6d",
        "outputId": "53211b4d-63c4-48a2-e195-1de19286d2d8"
      },
      "outputs": [
        {
          "output_type": "execute_result",
          "data": {
            "text/plain": [
              "<Axes: xlabel='Bathroom'>"
            ]
          },
          "metadata": {},
          "execution_count": 43
        },
        {
          "output_type": "display_data",
          "data": {
            "text/plain": [
              "<Figure size 1000x1000 with 1 Axes>"
            ],
            "image/png": "[encoded data removed]"
          },
          "metadata": {}
        }
      ],
      "source": [
        "sns.boxplot(df,x=outlier_col[5])"
      ]
    },
    {
      "cell_type": "code",
      "execution_count": 44,
      "metadata": {
        "colab": {
          "base_uri": "https://localhost:8080/",
          "height": 875
        },
        "id": "iyQ-VGSfv4pn",
        "outputId": "a916aec2-d236-44ed-ebd9-16c1eefab93a"
      },
      "outputs": [
        {
          "output_type": "execute_result",
          "data": {
            "text/plain": [
              "<Axes: xlabel='Car'>"
            ]
          },
          "metadata": {},
          "execution_count": 44
        },
        {
          "output_type": "display_data",
          "data": {
            "text/plain": [
              "<Figure size 1000x1000 with 1 Axes>"
            ],
            "image/png": "[encoded data removed]"
          },
          "metadata": {}
        }
      ],
      "source": [
        "sns.boxplot(df,x=outlier_col[6])"
      ]
    },
    {
      "cell_type": "code",
      "execution_count": 45,
      "metadata": {
        "colab": {
          "base_uri": "https://localhost:8080/",
          "height": 875
        },
        "id": "5WR7Dh4EwJWG",
        "outputId": "37aa9e07-abe0-4dd2-f779-c86f3fa7ce77"
      },
      "outputs": [
        {
          "output_type": "execute_result",
          "data": {
            "text/plain": [
              "<Axes: xlabel='Landsize'>"
            ]
          },
          "metadata": {},
          "execution_count": 45
        },
        {
          "output_type": "display_data",
          "data": {
            "text/plain": [
              "<Figure size 1000x1000 with 1 Axes>"
            ],
            "image/png": "[encoded data removed]"
          },
          "metadata": {}
        }
      ],
      "source": [
        "sns.boxplot(df,x=outlier_col[7])"
      ]
    },
    {
      "cell_type": "code",
      "execution_count": 46,
      "metadata": {
        "colab": {
          "base_uri": "https://localhost:8080/",
          "height": 875
        },
        "id": "AUQvWJrZwKL2",
        "outputId": "d735538f-6020-4f9d-8fd4-5295d12ebad9"
      },
      "outputs": [
        {
          "output_type": "execute_result",
          "data": {
            "text/plain": [
              "<Axes: xlabel='BuildingArea'>"
            ]
          },
          "metadata": {},
          "execution_count": 46
        },
        {
          "output_type": "display_data",
          "data": {
            "text/plain": [
              "<Figure size 1000x1000 with 1 Axes>"
            ],
            "image/png": "[encoded data removed]"
          },
          "metadata": {}
        }
      ],
      "source": [
        "sns.boxplot(df,x=outlier_col[8])"
      ]
    },
    {
      "cell_type": "code",
      "execution_count": 47,
      "metadata": {
        "colab": {
          "base_uri": "https://localhost:8080/",
          "height": 875
        },
        "id": "rkL2CawSwKqH",
        "outputId": "92774bdb-1da9-4163-866b-8954b7e0dcf4"
      },
      "outputs": [
        {
          "output_type": "execute_result",
          "data": {
            "text/plain": [
              "<Axes: xlabel='YearBuilt'>"
            ]
          },
          "metadata": {},
          "execution_count": 47
        },
        {
          "output_type": "display_data",
          "data": {
            "text/plain": [
              "<Figure size 1000x1000 with 1 Axes>"
            ],
            "image/png": "[encoded data removed]"
          },
          "metadata": {}
        }
      ],
      "source": [
        "sns.boxplot(df,x=outlier_col[9])"
      ]
    },
    {
      "cell_type": "code",
      "execution_count": 48,
      "metadata": {
        "colab": {
          "base_uri": "https://localhost:8080/",
          "height": 875
        },
        "id": "ZIhquUPSwLFP",
        "outputId": "98cd31af-6a15-4ab4-8e40-5a3e4236b332"
      },
      "outputs": [
        {
          "output_type": "execute_result",
          "data": {
            "text/plain": [
              "<Axes: xlabel='Lattitude'>"
            ]
          },
          "metadata": {},
          "execution_count": 48
        },
        {
          "output_type": "display_data",
          "data": {
            "text/plain": [
              "<Figure size 1000x1000 with 1 Axes>"
            ],
            "image/png": "[encoded data removed]"
          },
          "metadata": {}
        }
      ],
      "source": [
        "sns.boxplot(df,x=outlier_col[10])"
      ]
    },
    {
      "cell_type": "code",
      "execution_count": 49,
      "metadata": {
        "colab": {
          "base_uri": "https://localhost:8080/",
          "height": 875
        },
        "id": "MAJ8goITwMZH",
        "outputId": "08ce96ab-8167-498d-a95c-d5eb0b9965bc"
      },
      "outputs": [
        {
          "output_type": "execute_result",
          "data": {
            "text/plain": [
              "<Axes: xlabel='Longtitude'>"
            ]
          },
          "metadata": {},
          "execution_count": 49
        },
        {
          "output_type": "display_data",
          "data": {
            "text/plain": [
              "<Figure size 1000x1000 with 1 Axes>"
            ],
            "image/png": "[encoded data removed]"
          },
          "metadata": {}
        }
      ],
      "source": [
        "sns.boxplot(df,x=outlier_col[11])"
      ]
    },
    {
      "cell_type": "code",
      "execution_count": 50,
      "metadata": {
        "colab": {
          "base_uri": "https://localhost:8080/",
          "height": 875
        },
        "id": "a86Elm0ZwNg2",
        "outputId": "fe056cd3-60fa-46aa-c782-cdf86ee7fdd8"
      },
      "outputs": [
        {
          "output_type": "execute_result",
          "data": {
            "text/plain": [
              "<Axes: xlabel='Propertycount'>"
            ]
          },
          "metadata": {},
          "execution_count": 50
        },
        {
          "output_type": "display_data",
          "data": {
            "text/plain": [
              "<Figure size 1000x1000 with 1 Axes>"
            ],
            "image/png": "[encoded data removed]"
          },
          "metadata": {}
        }
      ],
      "source": [
        "sns.boxplot(df,x=outlier_col[12])"
      ]
    },
    {
      "cell_type": "code",
      "execution_count": 51,
      "metadata": {
        "colab": {
          "base_uri": "https://localhost:8080/",
          "height": 875
        },
        "id": "-mRqO2nuzWMA",
        "outputId": "e96d9842-1def-4278-f6f8-04f033887861"
      },
      "outputs": [
        {
          "output_type": "execute_result",
          "data": {
            "text/plain": [
              "<Axes: xlabel='Price', ylabel='Count'>"
            ]
          },
          "metadata": {},
          "execution_count": 51
        },
        {
          "output_type": "display_data",
          "data": {
            "text/plain": [
              "<Figure size 1000x1000 with 1 Axes>"
            ],
            "image/png": "[encoded data removed]"
          },
          "metadata": {}
        }
      ],
      "source": [
        "sns.histplot(data=df,x='Price',kde=True)"
      ]
    },
    {
      "cell_type": "code",
      "execution_count": 52,
      "metadata": {
        "colab": {
          "base_uri": "https://localhost:8080/",
          "height": 858
        },
        "id": "9HaOvbAB2G3J",
        "outputId": "f0a3a24d-00cf-4484-8262-55b0a30885b2"
      },
      "outputs": [
        {
          "output_type": "display_data",
          "data": {
            "text/plain": [
              "<Figure size 1000x1000 with 1 Axes>"
            ],
            "image/png": "[encoded data removed]"
          },
          "metadata": {}
        }
      ],
      "source": [
        "ax=sns.barplot(data=df,x='Regionname',y='Rooms',hue='Type',errwidth=0)\n",
        "for p in ax.patches:\n",
        "   ax.annotate(format(p.get_height(), '.0f'),\n",
        "                (p.get_x() + p.get_width() / 2., p.get_height()),\n",
        "                ha = 'center', va = 'center',\n",
        "                xytext = (0,10),\n",
        "                textcoords = 'offset points',\n",
        "                fontweight='bold')"
      ]
    },
    {
      "cell_type": "code",
      "execution_count": null,
      "metadata": {
        "id": "xD9qDJgnDQw4"
      },
      "outputs": [],
      "source": [
        "df2=df.select_dtypes(['int','float'])\n",
        "sns.pairplot(data=df2,hue='Price')"
      ]
    },
    {
      "cell_type": "code",
      "execution_count": null,
      "metadata": {
        "id": "JscASGy9FekY"
      },
      "outputs": [],
      "source": [
        "from sklearn.preprocessing import LabelEncoder\n",
        "\n",
        "encoder=LabelEncoder()\n",
        "for col in cat_col:\n",
        "  df[col]=encoder.fit_transform(df[col])\n",
        "\n",
        "for col in cat_but_card:\n",
        "    df[col]=encoder.fit_transform(df[col])"
      ]
    },
    {
      "cell_type": "code",
      "execution_count": null,
      "metadata": {
        "id": "FO8jTdV1KULC"
      },
      "outputs": [],
      "source": [
        "plt.figure(figsize=(20,10))\n",
        "sns.heatmap(df.corr(),linewidths=0,annot=True)"
      ]
    },
    {
      "cell_type": "code",
      "execution_count": null,
      "metadata": {
        "id": "WwqtqycBKZiq"
      },
      "outputs": [],
      "source": [
        "from sklearn.linear_model import LinearRegression,Ridge,LassoCV,RidgeCV,Lasso,ElasticNet,ElasticNetCV\n",
        "from sklearn.preprocessing import MinMaxScaler,LabelEncoder\n",
        "from sklearn.metrics import mean_squared_error,r2_score,mean_absolute_error\n",
        "from sklearn.svm import SVR\n",
        "from sklearn.tree import DecisionTreeRegressor\n",
        "from sklearn.ensemble import RandomForestRegressor,GradientBoostingRegressor,AdaBoostRegressor\n",
        "from sklearn.model_selection import train_test_split,cross_val_score,GridSearchCV\n",
        "from sklearn.neighbors import KNeighborsRegressor,KernelDensity"
      ]
    },
    {
      "cell_type": "code",
      "execution_count": null,
      "metadata": {
        "id": "uiBtZNhxzf63"
      },
      "outputs": [],
      "source": [
        "y=df['Price'].values\n",
        "X=df.drop('Price',axis=1).values"
      ]
    },
    {
      "cell_type": "code",
      "execution_count": null,
      "metadata": {
        "id": "gzOoZLgm0PN9"
      },
      "outputs": [],
      "source": [
        "sc=MinMaxScaler()\n",
        "X=sc.fit_transform(X)"
      ]
    },
    {
      "cell_type": "code",
      "execution_count": null,
      "metadata": {
        "id": "OHvQpRbqz71E"
      },
      "outputs": [],
      "source": [
        "X_train,X_test,Y_train,Y_test=train_test_split(X,y,test_size=0.2,random_state=42)"
      ]
    },
    {
      "cell_type": "code",
      "execution_count": null,
      "metadata": {
        "id": "YHahdBJd1Bsd"
      },
      "outputs": [],
      "source": [
        "X_train.shape,X_test.shape"
      ]
    },
    {
      "cell_type": "code",
      "execution_count": null,
      "metadata": {
        "id": "SkaSib-c1EJX"
      },
      "outputs": [],
      "source": [
        "Y_train.shape,Y_test.shape"
      ]
    },
    {
      "cell_type": "markdown",
      "metadata": {
        "id": "5E93YN8DuzaK"
      },
      "source": [
        "##Linear Regression"
      ]
    },
    {
      "cell_type": "code",
      "execution_count": null,
      "metadata": {
        "id": "Z6Fc004p1G5g"
      },
      "outputs": [],
      "source": [
        "lin_reg=LinearRegression().fit(X_train,Y_train)"
      ]
    },
    {
      "cell_type": "code",
      "execution_count": null,
      "metadata": {
        "id": "gq5a_4Zv2TvE"
      },
      "outputs": [],
      "source": [
        "lin_reg.coef_"
      ]
    },
    {
      "cell_type": "code",
      "execution_count": null,
      "metadata": {
        "id": "otqfddlf2VK7"
      },
      "outputs": [],
      "source": [
        "lin_reg.intercept_"
      ]
    },
    {
      "cell_type": "code",
      "execution_count": null,
      "metadata": {
        "id": "9fttB6EO2R8u"
      },
      "outputs": [],
      "source": [
        "Y_pred=lin_reg.predict(X_test)\n",
        "lin_reg_result=mean_squared_error(Y_test,Y_pred)\n",
        "lin_reg_R2=r2_score(Y_test,Y_pred)\n",
        "print(f\"MSE : {lin_reg_result}\\nMAE : {mean_absolute_error(Y_test,Y_pred)}\\nRMSE : {np.sqrt(mean_squared_error(Y_test,Y_pred))}\")\n",
        "print(f\"R2_Score : {lin_reg_R2}\")\n"
      ]
    },
    {
      "cell_type": "code",
      "execution_count": null,
      "metadata": {
        "id": "IddjnzP814rm"
      },
      "outputs": [],
      "source": [
        "lin_reg_cv=np.mean(-cross_val_score(lin_reg,X_train,Y_train,cv=10,scoring='neg_mean_squared_error'))\n",
        "print(f\"Linear Regression CV : {lin_reg_cv}\")"
      ]
    },
    {
      "cell_type": "markdown",
      "metadata": {
        "id": "mdfsoy-7u6LB"
      },
      "source": [
        "##Lasso Model"
      ]
    },
    {
      "cell_type": "code",
      "execution_count": null,
      "metadata": {
        "id": "fO_rTlcs2Hfi"
      },
      "outputs": [],
      "source": [
        "Lasso_reg=Lasso()\n",
        "Lasso_model_cv=LassoCV(max_iter=1000,cv=10).fit(X_train,Y_train).fit(X_train,Y_train)\n"
      ]
    },
    {
      "cell_type": "code",
      "execution_count": null,
      "metadata": {
        "id": "oPvzf--TmvHw"
      },
      "outputs": [],
      "source": [
        "Lasso_model_cv.alpha_  #en iyi lambda değeri"
      ]
    },
    {
      "cell_type": "code",
      "execution_count": null,
      "metadata": {
        "id": "SGSwdgwMn7Al"
      },
      "outputs": [],
      "source": [
        "Lasso_reg=Lasso_reg.set_params(alpha=Lasso_model_cv.alpha_ ).fit(X_train,Y_train)"
      ]
    },
    {
      "cell_type": "code",
      "execution_count": null,
      "metadata": {
        "id": "dfs8TuyNoNRs"
      },
      "outputs": [],
      "source": [
        "Y_test=Lasso_reg.predict(X_test)\n",
        "Lasso_Reg_Result=mean_squared_error(Y_test,Y_pred)\n",
        "Lasso_Reg_R2=r2_score(Y_test,Y_pred)\n",
        "print(f\"MSE : {Lasso_Reg_Result}\\nMAE : {mean_absolute_error(Y_test,Y_pred)}\\nRMSE : {np.sqrt(mean_squared_error(Y_test,Y_pred))}\")\n",
        "print(f\"R2_Score : {Lasso_Reg_R2}\")"
      ]
    },
    {
      "cell_type": "code",
      "execution_count": null,
      "metadata": {
        "id": "phjuipsnoQ6-"
      },
      "outputs": [],
      "source": [
        "np.mean(-cross_val_score(Lasso_reg,X_train,Y_train,scoring='neg_mean_squared_error',cv=10))"
      ]
    },
    {
      "cell_type": "markdown",
      "metadata": {
        "id": "krl_pOtWurJy"
      },
      "source": [
        "#Ridge Model"
      ]
    },
    {
      "cell_type": "code",
      "execution_count": null,
      "metadata": {
        "id": "vKuGpd9RpXpq"
      },
      "outputs": [],
      "source": [
        "lambdalar=10**np.linspace(10,-2,1000)*0.5"
      ]
    },
    {
      "cell_type": "code",
      "execution_count": null,
      "metadata": {
        "colab": {
          "background_save": true
        },
        "id": "unSgzoXbogfJ"
      },
      "outputs": [],
      "source": [
        "Ridge_reg=Ridge()\n",
        "Ridge_reg_cv=RidgeCV(alphas=lambdalar,cv=10,scoring=\"neg_mean_squared_error\").fit(X_train,Y_train)\n",
        "Ridge_reg_cv.alpha_"
      ]
    },
    {
      "cell_type": "code",
      "execution_count": null,
      "metadata": {
        "colab": {
          "background_save": true
        },
        "id": "8Owr24aFpOkF"
      },
      "outputs": [],
      "source": [
        "Ridge_reg=Ridge_reg.set_params(alpha=Ridge_reg_cv.alpha_).fit(X_train,Y_train)\n",
        "Y_test=Ridge_reg.predict(X_test)"
      ]
    },
    {
      "cell_type": "code",
      "execution_count": null,
      "metadata": {
        "colab": {
          "background_save": true
        },
        "id": "y_WJ8ocJquQ4"
      },
      "outputs": [],
      "source": [
        "Ridge_Reg_Result=mean_squared_error(Y_test,Y_pred)\n",
        "Ridge_reg_R2=r2_score(Y_test,Y_pred)\n",
        "print(f\"MSE : {Ridge_Reg_Result}\\nMAE : {mean_absolute_error(Y_test,Y_pred)}\\nRMSE : {np.sqrt(mean_squared_error(Y_test,Y_pred))}\")\n",
        "print(f\"R2_Score : {Ridge_reg_R2}\")"
      ]
    },
    {
      "cell_type": "code",
      "execution_count": null,
      "metadata": {
        "colab": {
          "background_save": true
        },
        "id": "vhoDXzzFq0bo"
      },
      "outputs": [],
      "source": [
        "np.mean(-cross_val_score(Ridge_reg,X_train,Y_train,scoring='neg_mean_squared_error',cv=10))"
      ]
    },
    {
      "cell_type": "markdown",
      "metadata": {
        "id": "4bQI87tRzKrT"
      },
      "source": [
        "##ElasticNet Algorithm"
      ]
    },
    {
      "cell_type": "code",
      "execution_count": null,
      "metadata": {
        "colab": {
          "background_save": true
        },
        "id": "urPzxzgjq_AB"
      },
      "outputs": [],
      "source": [
        "Elastic_model=ElasticNet()\n",
        "Elastic_model_cv=ElasticNetCV(cv=10).fit(X_train,Y_train)\n",
        "Elastic_model_cv.alpha_"
      ]
    },
    {
      "cell_type": "code",
      "execution_count": null,
      "metadata": {
        "colab": {
          "background_save": true
        },
        "id": "lwQVYUkqvWbw"
      },
      "outputs": [],
      "source": [
        "Elastic_model=Elastic_model.set_params(alpha=Elastic_model_cv.alpha_).fit(X_train,Y_train)\n",
        "Y_test=Elastic_model.predict(X_test)"
      ]
    },
    {
      "cell_type": "code",
      "execution_count": null,
      "metadata": {
        "colab": {
          "background_save": true
        },
        "id": "DL2xJoS3voTK"
      },
      "outputs": [],
      "source": [
        "Elastic_model_Result=mean_squared_error(Y_test,Y_pred)\n",
        "Elastic_model_R2=r2_score(Y_test,Y_pred)\n",
        "print(f\"MSE : {Elastic_model_Result}\\nMAE : {mean_absolute_error(Y_test,Y_pred)}\\nRMSE : {np.sqrt(mean_squared_error(Y_test,Y_pred))}\")\n",
        "print(f\"R2_Score : {Elastic_model_R2}\")"
      ]
    },
    {
      "cell_type": "code",
      "execution_count": null,
      "metadata": {
        "colab": {
          "background_save": true
        },
        "id": "JvoNWuldwBxi"
      },
      "outputs": [],
      "source": [
        "np.mean(-cross_val_score(Elastic_model,X_train,Y_train,scoring='neg_mean_squared_error',cv=10))"
      ]
    },
    {
      "cell_type": "markdown",
      "metadata": {
        "id": "vYa-VQbPzGks"
      },
      "source": [
        "##KNN Algorithm"
      ]
    },
    {
      "cell_type": "code",
      "execution_count": null,
      "metadata": {
        "colab": {
          "background_save": true
        },
        "id": "T5xYuq8swIAR"
      },
      "outputs": [],
      "source": [
        "KNN_model=KNeighborsRegressor().fit(X_train,Y_train)\n",
        "Y_test=KNN_model.predict(X_test)"
      ]
    },
    {
      "cell_type": "code",
      "execution_count": null,
      "metadata": {
        "colab": {
          "background_save": true
        },
        "id": "R6fhEUTvy0W9"
      },
      "outputs": [],
      "source": [
        "KNN_model_Result=mean_squared_error(Y_test,Y_pred)\n",
        "KNN_model_R2=r2_score(Y_test,Y_pred)\n",
        "print(f\"MSE : {KNN_model_Result}\\nMAE : {mean_absolute_error(Y_test,Y_pred)}\\nRMSE : {np.sqrt(mean_squared_error(Y_test,Y_pred))}\")\n",
        "print(f\"R2_Score : {KNN_model_R2}\")"
      ]
    },
    {
      "cell_type": "code",
      "execution_count": null,
      "metadata": {
        "colab": {
          "background_save": true
        },
        "id": "kjfswzDq13s5"
      },
      "outputs": [],
      "source": [
        "np.mean(-cross_val_score(KNN_model,X_train,Y_train,scoring='neg_mean_squared_error',cv=10))"
      ]
    },
    {
      "cell_type": "markdown",
      "metadata": {
        "id": "C6aaoqzV0znE"
      },
      "source": [
        "##Random Forest Algorithm"
      ]
    },
    {
      "cell_type": "code",
      "execution_count": null,
      "metadata": {
        "colab": {
          "background_save": true
        },
        "id": "iXmvCTvEy_af"
      },
      "outputs": [],
      "source": [
        "rand_forest_reg=RandomForestRegressor()\n",
        "rand_forest_cv=GridSearchCV(rand_forest_reg,param_grid= {\"n_estimators\": [3, 10, 20, 50],\"n_jobs\": [2, 3, 4, 10]},cv=5,scoring='neg_mean_squared_error').fit(X_train,Y_train)\n",
        "rand_forest_cv.best_params_"
      ]
    },
    {
      "cell_type": "code",
      "execution_count": null,
      "metadata": {
        "colab": {
          "background_save": true
        },
        "id": "t5OIrYJ10p5o"
      },
      "outputs": [],
      "source": [
        "rand_forest_reg=rand_forest_reg.set_params(n_estimators=rand_forest_cv.best_params_['n_estimators'],max_depth=5).fit(X_train,Y_train)\n",
        "Y_test=rand_forest_reg.predict(X_test)\n",
        "rand_forest_reg_Result=mean_squared_error(Y_test,Y_pred)\n",
        "rand_forest_reg_R2=r2_score(Y_test,Y_pred)\n",
        "print(f\"MSE : {rand_forest_reg_Result}\\nMAE : {mean_absolute_error(Y_test,Y_pred)}\\nRMSE : {np.sqrt(mean_squared_error(Y_test,Y_pred))}\")\n",
        "print(f\"R2_Score : {rand_forest_reg_R2}\")"
      ]
    },
    {
      "cell_type": "code",
      "execution_count": null,
      "metadata": {
        "colab": {
          "background_save": true
        },
        "id": "aP7Vn6T81So6"
      },
      "outputs": [],
      "source": [
        "np.mean(-cross_val_score(rand_forest_reg,X_train,Y_train,scoring='neg_mean_squared_error',cv=10))"
      ]
    },
    {
      "cell_type": "code",
      "execution_count": null,
      "metadata": {
        "colab": {
          "background_save": true
        },
        "id": "OfzYn0EM4hhi"
      },
      "outputs": [],
      "source": [
        "Gradient_boosting_reg=GradientBoostingRegressor().fit(X_train,Y_train)\n",
        "Y_test=Gradient_boosting_reg.predict(X_test)"
      ]
    },
    {
      "cell_type": "code",
      "execution_count": null,
      "metadata": {
        "colab": {
          "background_save": true
        },
        "id": "AWbmcrvt6gtx"
      },
      "outputs": [],
      "source": [
        "Gradient_boosting_reg_Result=mean_squared_error(Y_test,Y_pred)\n",
        "Gradient_boosting_reg_R2=r2_score(Y_test,Y_pred)\n",
        "print(f\"MSE : {Gradient_boosting_reg_Result}\\nMAE : {mean_absolute_error(Y_test,Y_pred)}\\nRMSE : {np.sqrt(mean_squared_error(Y_test,Y_pred))}\")\n",
        "print(f\"R2_Score : {Gradient_boosting_reg_R2}\")"
      ]
    },
    {
      "cell_type": "code",
      "execution_count": null,
      "metadata": {
        "colab": {
          "background_save": true
        },
        "id": "X0QgUc3J7TJR"
      },
      "outputs": [],
      "source": [
        "np.mean(-cross_val_score(Gradient_boosting_reg,X_train,Y_train,scoring='neg_mean_squared_error',cv=10))"
      ]
    },
    {
      "cell_type": "markdown",
      "metadata": {
        "id": "DwthzvDz8WhZ"
      },
      "source": [
        "##AdaBoostRegressor"
      ]
    },
    {
      "cell_type": "code",
      "execution_count": null,
      "metadata": {
        "colab": {
          "background_save": true
        },
        "id": "9Lp0JeVk6nth"
      },
      "outputs": [],
      "source": [
        "Ada_boost_reg=AdaBoostRegressor(n_estimators = 5, learning_rate = 1.2, loss = 'exponential', random_state = 2).fit(X_train,Y_train)\n",
        "Y_test=Ada_boost_reg.predict(X_test)"
      ]
    },
    {
      "cell_type": "code",
      "execution_count": null,
      "metadata": {
        "colab": {
          "background_save": true
        },
        "id": "eHnqN2UG7I_S"
      },
      "outputs": [],
      "source": [
        "Ada_boost_reg_Result=mean_squared_error(Y_test,Y_pred)\n",
        "Ada_boost_R2=r2_score(Y_test,Y_pred)\n",
        "print(f\"MSE : {Ada_boost_reg_Result}\\nMAE : {mean_absolute_error(Y_test,Y_pred)}\\nRMSE : {np.sqrt(mean_squared_error(Y_test,Y_pred))}\")\n",
        "print(f\"R2_Score : {Ada_boost_R2}\")"
      ]
    },
    {
      "cell_type": "code",
      "execution_count": null,
      "metadata": {
        "colab": {
          "background_save": true
        },
        "id": "76de_E8-7djj"
      },
      "outputs": [],
      "source": [
        "np.mean(-cross_val_score(Ada_boost_reg,X_train,Y_train,scoring='neg_mean_squared_error',cv=10))"
      ]
    },
    {
      "cell_type": "code",
      "execution_count": null,
      "metadata": {
        "colab": {
          "background_save": true
        },
        "id": "Uy78b2iU7htf"
      },
      "outputs": [],
      "source": [
        "plt.figure(figsize=(20,10))\n",
        "R2_score=[lin_reg_R2,Lasso_Reg_R2,Ridge_reg_R2,Elastic_model_R2,KNN_model_R2,rand_forest_reg_R2,Gradient_boosting_reg_R2,Ada_boost_R2]\n",
        "percantage=[i*100 for i in R2_score]\n",
        "method=[\"lin_reg_R2\",\"Lasso_Reg_R2\",\"Ridge_reg_R2\",\"Elastic_model_R2\",\"KNN_model_R2\",\"rand_forest_reg_R2\",\"Gradient_boosting_reg_R2\",\"Ada_boost_R2\"]\n",
        "\n",
        "sns.barplot(x=method,y=percantage)\n",
        "plt.title(\"Results Of R2\",color=\"red\",size=20)\n",
        "plt.xlabel(\"Methods\",size=15)\n",
        "plt.ylabel(\"Results Of Methods\",size=15)\n",
        "\n",
        "for index,label,result in zip([i for i in range(0,len(method))],method,percantage):\n",
        "  if result==max(percantage):\n",
        "     plt.text(index,result,str(result),ha=\"center\",va=\"bottom\",color=\"red\")\n",
        "  else:\n",
        "     plt.text(index,result,str(result),ha=\"center\",va=\"bottom\")"
      ]
    }
  ],
  "metadata": {
    "colab": {
      "provenance": [],
      "mount_file_id": "1FTR97UmE1NM-TN2ovs_iMGQfnXSR3x7N",
      "authorship_tag": "ABX9TyN743H7fAmLlVTC0Y4zn08v",
      "include_colab_link": true
    },
    "kernelspec": {
      "display_name": "Python 3",
      "name": "python3"
    },
    "language_info": {
      "name": "python"
    }
  },
  "nbformat": 4,
  "nbformat_minor": 0
}